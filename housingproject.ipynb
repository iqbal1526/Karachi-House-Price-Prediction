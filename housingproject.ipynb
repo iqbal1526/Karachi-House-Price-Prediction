{
 "cells": [
  {
   "cell_type": "code",
   "execution_count": 194,
   "id": "5d2bd3a1",
   "metadata": {},
   "outputs": [],
   "source": [
    "import numpy as np"
   ]
  },
  {
   "cell_type": "code",
   "execution_count": 195,
   "id": "69df9568",
   "metadata": {},
   "outputs": [],
   "source": [
    "import pandas as pd\n",
    "\n",
    "df = pd.read_csv(r'data.csv')"
   ]
  },
  {
   "cell_type": "markdown",
   "id": "54fec871",
   "metadata": {},
   "source": [
    "<h3>first rows of dataset</h3>"
   ]
  },
  {
   "cell_type": "code",
   "execution_count": 196,
   "id": "a8ded9f4",
   "metadata": {
    "scrolled": true
   },
   "outputs": [
    {
     "data": {
      "text/html": [
       "<div>\n",
       "<style scoped>\n",
       "    .dataframe tbody tr th:only-of-type {\n",
       "        vertical-align: middle;\n",
       "    }\n",
       "\n",
       "    .dataframe tbody tr th {\n",
       "        vertical-align: top;\n",
       "    }\n",
       "\n",
       "    .dataframe thead th {\n",
       "        text-align: right;\n",
       "    }\n",
       "</style>\n",
       "<table border=\"1\" class=\"dataframe\">\n",
       "  <thead>\n",
       "    <tr style=\"text-align: right;\">\n",
       "      <th></th>\n",
       "      <th>title</th>\n",
       "      <th>price</th>\n",
       "      <th>date added</th>\n",
       "      <th>type</th>\n",
       "      <th>bedrooms</th>\n",
       "      <th>bathrooms</th>\n",
       "      <th>area</th>\n",
       "      <th>location</th>\n",
       "      <th>complete location</th>\n",
       "      <th>description</th>\n",
       "      <th>keywords</th>\n",
       "      <th>url</th>\n",
       "    </tr>\n",
       "  </thead>\n",
       "  <tbody>\n",
       "    <tr>\n",
       "      <th>0</th>\n",
       "      <td>600 Yard Bungalow For Sale In DHA Phase 6</td>\n",
       "      <td>11.5 Crore</td>\n",
       "      <td>14 hours ago</td>\n",
       "      <td>House</td>\n",
       "      <td>5</td>\n",
       "      <td>6</td>\n",
       "      <td>600 Sq. Yd.</td>\n",
       "      <td>DHA Defence, Karachi, Sindh</td>\n",
       "      <td>DHA Phase 6, DHA Defence, Karachi, Sindh</td>\n",
       "      <td>Chance Deal 600 Yard Bungalow For Sale</td>\n",
       "      <td>Built in year: 1,Parking Spaces: 5,Flooring,Ot...</td>\n",
       "      <td>https://www.zameen.com/Property/d_h_a_dha_phas...</td>\n",
       "    </tr>\n",
       "    <tr>\n",
       "      <th>1</th>\n",
       "      <td>3 BEDS LUXURY 125 SQ YARDS VILLA FOR SALE LOCA...</td>\n",
       "      <td>1.45 Crore</td>\n",
       "      <td>5 hours ago</td>\n",
       "      <td>House</td>\n",
       "      <td>0</td>\n",
       "      <td>0</td>\n",
       "      <td>NaN</td>\n",
       "      <td>Bahria Town Karachi, Karachi, Sindh</td>\n",
       "      <td>Bahria Town - Ali Block, Bahria Town - Precinc...</td>\n",
       "      <td>3 BEDS LUXURY 125 SQ YARDS VILLA FOR SALE LOCA...</td>\n",
       "      <td>Bedrooms: 3,Bathrooms: 3,Kitchens: 2</td>\n",
       "      <td>https://www.zameen.com/Property/bahria_town_pr...</td>\n",
       "    </tr>\n",
       "    <tr>\n",
       "      <th>2</th>\n",
       "      <td>4 BEDS LUXURY SPORTS CITY VILLA FOR RENT BAHRI...</td>\n",
       "      <td>2.12 Crore</td>\n",
       "      <td>5 hours ago</td>\n",
       "      <td>House</td>\n",
       "      <td>0</td>\n",
       "      <td>0</td>\n",
       "      <td>NaN</td>\n",
       "      <td>Bahria Town Karachi, Karachi, Sindh</td>\n",
       "      <td>Bahria Sports City, Bahria Town Karachi, Karac...</td>\n",
       "      <td>4 BEDS LUXURY SPORTS CITY VILLA FOR RENT BAHRI...</td>\n",
       "      <td>Bedrooms: 4,Bathrooms: 4,Kitchens: 2</td>\n",
       "      <td>https://www.zameen.com/Property/bahria_town_ka...</td>\n",
       "    </tr>\n",
       "    <tr>\n",
       "      <th>3</th>\n",
       "      <td>3 BEDS LUXURY 235 SQ YARDS VILLA FOR SALE LOCA...</td>\n",
       "      <td>1.5 Crore</td>\n",
       "      <td>5 hours ago</td>\n",
       "      <td>House</td>\n",
       "      <td>0</td>\n",
       "      <td>0</td>\n",
       "      <td>NaN</td>\n",
       "      <td>Bahria Town Karachi, Karachi, Sindh</td>\n",
       "      <td>Bahria Town - Precinct 31, Bahria Town Karachi...</td>\n",
       "      <td>3 BEDS LUXURY 235 SQ YARDS VILLA FOR SALE LOCA...</td>\n",
       "      <td>Bedrooms: 3,Bathrooms: 3,Kitchens: 2</td>\n",
       "      <td>https://www.zameen.com/Property/bahria_town_ka...</td>\n",
       "    </tr>\n",
       "    <tr>\n",
       "      <th>4</th>\n",
       "      <td>Buying A Flat In Clifton - Block 9?</td>\n",
       "      <td>4 Crore</td>\n",
       "      <td>6 hours ago</td>\n",
       "      <td>Flat</td>\n",
       "      <td>3</td>\n",
       "      <td>3</td>\n",
       "      <td>200 Sq. Yd.</td>\n",
       "      <td>Clifton, Karachi, Sindh</td>\n",
       "      <td>Clifton - Block 9, Clifton, Karachi, Sindh</td>\n",
       "      <td>Apartment for sale</td>\n",
       "      <td>Flooring,Electricity Backup,Broadband Internet...</td>\n",
       "      <td>https://www.zameen.com/Property/clifton_clifto...</td>\n",
       "    </tr>\n",
       "  </tbody>\n",
       "</table>\n",
       "</div>"
      ],
      "text/plain": [
       "                                               title       price  \\\n",
       "0          600 Yard Bungalow For Sale In DHA Phase 6  11.5 Crore   \n",
       "1  3 BEDS LUXURY 125 SQ YARDS VILLA FOR SALE LOCA...  1.45 Crore   \n",
       "2  4 BEDS LUXURY SPORTS CITY VILLA FOR RENT BAHRI...  2.12 Crore   \n",
       "3  3 BEDS LUXURY 235 SQ YARDS VILLA FOR SALE LOCA...   1.5 Crore   \n",
       "4                Buying A Flat In Clifton - Block 9?     4 Crore   \n",
       "\n",
       "     date added   type  bedrooms  bathrooms         area  \\\n",
       "0  14 hours ago  House         5          6  600 Sq. Yd.   \n",
       "1   5 hours ago  House         0          0          NaN   \n",
       "2   5 hours ago  House         0          0          NaN   \n",
       "3   5 hours ago  House         0          0          NaN   \n",
       "4   6 hours ago   Flat         3          3  200 Sq. Yd.   \n",
       "\n",
       "                              location  \\\n",
       "0          DHA Defence, Karachi, Sindh   \n",
       "1  Bahria Town Karachi, Karachi, Sindh   \n",
       "2  Bahria Town Karachi, Karachi, Sindh   \n",
       "3  Bahria Town Karachi, Karachi, Sindh   \n",
       "4              Clifton, Karachi, Sindh   \n",
       "\n",
       "                                   complete location  \\\n",
       "0           DHA Phase 6, DHA Defence, Karachi, Sindh   \n",
       "1  Bahria Town - Ali Block, Bahria Town - Precinc...   \n",
       "2  Bahria Sports City, Bahria Town Karachi, Karac...   \n",
       "3  Bahria Town - Precinct 31, Bahria Town Karachi...   \n",
       "4         Clifton - Block 9, Clifton, Karachi, Sindh   \n",
       "\n",
       "                                         description  \\\n",
       "0             Chance Deal 600 Yard Bungalow For Sale   \n",
       "1  3 BEDS LUXURY 125 SQ YARDS VILLA FOR SALE LOCA...   \n",
       "2  4 BEDS LUXURY SPORTS CITY VILLA FOR RENT BAHRI...   \n",
       "3  3 BEDS LUXURY 235 SQ YARDS VILLA FOR SALE LOCA...   \n",
       "4                                 Apartment for sale   \n",
       "\n",
       "                                            keywords  \\\n",
       "0  Built in year: 1,Parking Spaces: 5,Flooring,Ot...   \n",
       "1               Bedrooms: 3,Bathrooms: 3,Kitchens: 2   \n",
       "2               Bedrooms: 4,Bathrooms: 4,Kitchens: 2   \n",
       "3               Bedrooms: 3,Bathrooms: 3,Kitchens: 2   \n",
       "4  Flooring,Electricity Backup,Broadband Internet...   \n",
       "\n",
       "                                                 url  \n",
       "0  https://www.zameen.com/Property/d_h_a_dha_phas...  \n",
       "1  https://www.zameen.com/Property/bahria_town_pr...  \n",
       "2  https://www.zameen.com/Property/bahria_town_ka...  \n",
       "3  https://www.zameen.com/Property/bahria_town_ka...  \n",
       "4  https://www.zameen.com/Property/clifton_clifto...  "
      ]
     },
     "execution_count": 196,
     "metadata": {},
     "output_type": "execute_result"
    }
   ],
   "source": [
    "df.head()"
   ]
  },
  {
   "cell_type": "code",
   "execution_count": 197,
   "id": "753dec38",
   "metadata": {},
   "outputs": [
    {
     "data": {
      "text/plain": [
       "(8414, 12)"
      ]
     },
     "execution_count": 197,
     "metadata": {},
     "output_type": "execute_result"
    }
   ],
   "source": [
    "df.shape"
   ]
  },
  {
   "cell_type": "code",
   "execution_count": 198,
   "id": "85451311",
   "metadata": {},
   "outputs": [
    {
     "data": {
      "text/html": [
       "<div>\n",
       "<style scoped>\n",
       "    .dataframe tbody tr th:only-of-type {\n",
       "        vertical-align: middle;\n",
       "    }\n",
       "\n",
       "    .dataframe tbody tr th {\n",
       "        vertical-align: top;\n",
       "    }\n",
       "\n",
       "    .dataframe thead th {\n",
       "        text-align: right;\n",
       "    }\n",
       "</style>\n",
       "<table border=\"1\" class=\"dataframe\">\n",
       "  <thead>\n",
       "    <tr style=\"text-align: right;\">\n",
       "      <th></th>\n",
       "      <th>bedrooms</th>\n",
       "      <th>bathrooms</th>\n",
       "    </tr>\n",
       "  </thead>\n",
       "  <tbody>\n",
       "    <tr>\n",
       "      <th>count</th>\n",
       "      <td>8414.000000</td>\n",
       "      <td>8414.000000</td>\n",
       "    </tr>\n",
       "    <tr>\n",
       "      <th>mean</th>\n",
       "      <td>3.169242</td>\n",
       "      <td>3.365106</td>\n",
       "    </tr>\n",
       "    <tr>\n",
       "      <th>std</th>\n",
       "      <td>1.843161</td>\n",
       "      <td>1.999298</td>\n",
       "    </tr>\n",
       "    <tr>\n",
       "      <th>min</th>\n",
       "      <td>0.000000</td>\n",
       "      <td>0.000000</td>\n",
       "    </tr>\n",
       "    <tr>\n",
       "      <th>25%</th>\n",
       "      <td>2.000000</td>\n",
       "      <td>2.000000</td>\n",
       "    </tr>\n",
       "    <tr>\n",
       "      <th>50%</th>\n",
       "      <td>3.000000</td>\n",
       "      <td>3.000000</td>\n",
       "    </tr>\n",
       "    <tr>\n",
       "      <th>75%</th>\n",
       "      <td>4.000000</td>\n",
       "      <td>5.000000</td>\n",
       "    </tr>\n",
       "    <tr>\n",
       "      <th>max</th>\n",
       "      <td>11.000000</td>\n",
       "      <td>10.000000</td>\n",
       "    </tr>\n",
       "  </tbody>\n",
       "</table>\n",
       "</div>"
      ],
      "text/plain": [
       "          bedrooms    bathrooms\n",
       "count  8414.000000  8414.000000\n",
       "mean      3.169242     3.365106\n",
       "std       1.843161     1.999298\n",
       "min       0.000000     0.000000\n",
       "25%       2.000000     2.000000\n",
       "50%       3.000000     3.000000\n",
       "75%       4.000000     5.000000\n",
       "max      11.000000    10.000000"
      ]
     },
     "execution_count": 198,
     "metadata": {},
     "output_type": "execute_result"
    }
   ],
   "source": [
    "df.describe()"
   ]
  },
  {
   "cell_type": "markdown",
   "id": "4abc67cd",
   "metadata": {},
   "source": [
    "<h3>dropping the unnecessary columns<h3>"
   ]
  },
  {
   "cell_type": "code",
   "execution_count": 199,
   "id": "635b7a4c",
   "metadata": {},
   "outputs": [
    {
     "data": {
      "text/html": [
       "<div>\n",
       "<style scoped>\n",
       "    .dataframe tbody tr th:only-of-type {\n",
       "        vertical-align: middle;\n",
       "    }\n",
       "\n",
       "    .dataframe tbody tr th {\n",
       "        vertical-align: top;\n",
       "    }\n",
       "\n",
       "    .dataframe thead th {\n",
       "        text-align: right;\n",
       "    }\n",
       "</style>\n",
       "<table border=\"1\" class=\"dataframe\">\n",
       "  <thead>\n",
       "    <tr style=\"text-align: right;\">\n",
       "      <th></th>\n",
       "      <th>price</th>\n",
       "      <th>type</th>\n",
       "      <th>bedrooms</th>\n",
       "      <th>bathrooms</th>\n",
       "      <th>area</th>\n",
       "      <th>location</th>\n",
       "      <th>complete location</th>\n",
       "      <th>description</th>\n",
       "      <th>keywords</th>\n",
       "    </tr>\n",
       "  </thead>\n",
       "  <tbody>\n",
       "    <tr>\n",
       "      <th>0</th>\n",
       "      <td>11.5 Crore</td>\n",
       "      <td>House</td>\n",
       "      <td>5</td>\n",
       "      <td>6</td>\n",
       "      <td>600 Sq. Yd.</td>\n",
       "      <td>DHA Defence, Karachi, Sindh</td>\n",
       "      <td>DHA Phase 6, DHA Defence, Karachi, Sindh</td>\n",
       "      <td>Chance Deal 600 Yard Bungalow For Sale</td>\n",
       "      <td>Built in year: 1,Parking Spaces: 5,Flooring,Ot...</td>\n",
       "    </tr>\n",
       "    <tr>\n",
       "      <th>1</th>\n",
       "      <td>1.45 Crore</td>\n",
       "      <td>House</td>\n",
       "      <td>0</td>\n",
       "      <td>0</td>\n",
       "      <td>NaN</td>\n",
       "      <td>Bahria Town Karachi, Karachi, Sindh</td>\n",
       "      <td>Bahria Town - Ali Block, Bahria Town - Precinc...</td>\n",
       "      <td>3 BEDS LUXURY 125 SQ YARDS VILLA FOR SALE LOCA...</td>\n",
       "      <td>Bedrooms: 3,Bathrooms: 3,Kitchens: 2</td>\n",
       "    </tr>\n",
       "    <tr>\n",
       "      <th>2</th>\n",
       "      <td>2.12 Crore</td>\n",
       "      <td>House</td>\n",
       "      <td>0</td>\n",
       "      <td>0</td>\n",
       "      <td>NaN</td>\n",
       "      <td>Bahria Town Karachi, Karachi, Sindh</td>\n",
       "      <td>Bahria Sports City, Bahria Town Karachi, Karac...</td>\n",
       "      <td>4 BEDS LUXURY SPORTS CITY VILLA FOR RENT BAHRI...</td>\n",
       "      <td>Bedrooms: 4,Bathrooms: 4,Kitchens: 2</td>\n",
       "    </tr>\n",
       "    <tr>\n",
       "      <th>3</th>\n",
       "      <td>1.5 Crore</td>\n",
       "      <td>House</td>\n",
       "      <td>0</td>\n",
       "      <td>0</td>\n",
       "      <td>NaN</td>\n",
       "      <td>Bahria Town Karachi, Karachi, Sindh</td>\n",
       "      <td>Bahria Town - Precinct 31, Bahria Town Karachi...</td>\n",
       "      <td>3 BEDS LUXURY 235 SQ YARDS VILLA FOR SALE LOCA...</td>\n",
       "      <td>Bedrooms: 3,Bathrooms: 3,Kitchens: 2</td>\n",
       "    </tr>\n",
       "    <tr>\n",
       "      <th>4</th>\n",
       "      <td>4 Crore</td>\n",
       "      <td>Flat</td>\n",
       "      <td>3</td>\n",
       "      <td>3</td>\n",
       "      <td>200 Sq. Yd.</td>\n",
       "      <td>Clifton, Karachi, Sindh</td>\n",
       "      <td>Clifton - Block 9, Clifton, Karachi, Sindh</td>\n",
       "      <td>Apartment for sale</td>\n",
       "      <td>Flooring,Electricity Backup,Broadband Internet...</td>\n",
       "    </tr>\n",
       "  </tbody>\n",
       "</table>\n",
       "</div>"
      ],
      "text/plain": [
       "        price   type  bedrooms  bathrooms         area  \\\n",
       "0  11.5 Crore  House         5          6  600 Sq. Yd.   \n",
       "1  1.45 Crore  House         0          0          NaN   \n",
       "2  2.12 Crore  House         0          0          NaN   \n",
       "3   1.5 Crore  House         0          0          NaN   \n",
       "4     4 Crore   Flat         3          3  200 Sq. Yd.   \n",
       "\n",
       "                              location  \\\n",
       "0          DHA Defence, Karachi, Sindh   \n",
       "1  Bahria Town Karachi, Karachi, Sindh   \n",
       "2  Bahria Town Karachi, Karachi, Sindh   \n",
       "3  Bahria Town Karachi, Karachi, Sindh   \n",
       "4              Clifton, Karachi, Sindh   \n",
       "\n",
       "                                   complete location  \\\n",
       "0           DHA Phase 6, DHA Defence, Karachi, Sindh   \n",
       "1  Bahria Town - Ali Block, Bahria Town - Precinc...   \n",
       "2  Bahria Sports City, Bahria Town Karachi, Karac...   \n",
       "3  Bahria Town - Precinct 31, Bahria Town Karachi...   \n",
       "4         Clifton - Block 9, Clifton, Karachi, Sindh   \n",
       "\n",
       "                                         description  \\\n",
       "0             Chance Deal 600 Yard Bungalow For Sale   \n",
       "1  3 BEDS LUXURY 125 SQ YARDS VILLA FOR SALE LOCA...   \n",
       "2  4 BEDS LUXURY SPORTS CITY VILLA FOR RENT BAHRI...   \n",
       "3  3 BEDS LUXURY 235 SQ YARDS VILLA FOR SALE LOCA...   \n",
       "4                                 Apartment for sale   \n",
       "\n",
       "                                            keywords  \n",
       "0  Built in year: 1,Parking Spaces: 5,Flooring,Ot...  \n",
       "1               Bedrooms: 3,Bathrooms: 3,Kitchens: 2  \n",
       "2               Bedrooms: 4,Bathrooms: 4,Kitchens: 2  \n",
       "3               Bedrooms: 3,Bathrooms: 3,Kitchens: 2  \n",
       "4  Flooring,Electricity Backup,Broadband Internet...  "
      ]
     },
     "execution_count": 199,
     "metadata": {},
     "output_type": "execute_result"
    }
   ],
   "source": [
    "df = df.drop(labels = ['title', 'date added','url'], axis = 1)\n",
    "df.head()"
   ]
  },
  {
   "cell_type": "markdown",
   "id": "537f7f7c",
   "metadata": {},
   "source": [
    "<h3>since we want to predict the price of houses and flats so we will filter our dataset in that way<h3>"
   ]
  },
  {
   "cell_type": "code",
   "execution_count": 200,
   "id": "fb1bdd8b",
   "metadata": {},
   "outputs": [
    {
     "data": {
      "text/html": [
       "<div>\n",
       "<style scoped>\n",
       "    .dataframe tbody tr th:only-of-type {\n",
       "        vertical-align: middle;\n",
       "    }\n",
       "\n",
       "    .dataframe tbody tr th {\n",
       "        vertical-align: top;\n",
       "    }\n",
       "\n",
       "    .dataframe thead th {\n",
       "        text-align: right;\n",
       "    }\n",
       "</style>\n",
       "<table border=\"1\" class=\"dataframe\">\n",
       "  <thead>\n",
       "    <tr style=\"text-align: right;\">\n",
       "      <th></th>\n",
       "      <th>price</th>\n",
       "      <th>type</th>\n",
       "      <th>bedrooms</th>\n",
       "      <th>bathrooms</th>\n",
       "      <th>area</th>\n",
       "      <th>location</th>\n",
       "      <th>complete location</th>\n",
       "      <th>description</th>\n",
       "      <th>keywords</th>\n",
       "    </tr>\n",
       "  </thead>\n",
       "  <tbody>\n",
       "    <tr>\n",
       "      <th>0</th>\n",
       "      <td>11.5 Crore</td>\n",
       "      <td>House</td>\n",
       "      <td>5</td>\n",
       "      <td>6</td>\n",
       "      <td>600 Sq. Yd.</td>\n",
       "      <td>DHA Defence, Karachi, Sindh</td>\n",
       "      <td>DHA Phase 6, DHA Defence, Karachi, Sindh</td>\n",
       "      <td>Chance Deal 600 Yard Bungalow For Sale</td>\n",
       "      <td>Built in year: 1,Parking Spaces: 5,Flooring,Ot...</td>\n",
       "    </tr>\n",
       "    <tr>\n",
       "      <th>1</th>\n",
       "      <td>1.45 Crore</td>\n",
       "      <td>House</td>\n",
       "      <td>0</td>\n",
       "      <td>0</td>\n",
       "      <td>NaN</td>\n",
       "      <td>Bahria Town Karachi, Karachi, Sindh</td>\n",
       "      <td>Bahria Town - Ali Block, Bahria Town - Precinc...</td>\n",
       "      <td>3 BEDS LUXURY 125 SQ YARDS VILLA FOR SALE LOCA...</td>\n",
       "      <td>Bedrooms: 3,Bathrooms: 3,Kitchens: 2</td>\n",
       "    </tr>\n",
       "    <tr>\n",
       "      <th>2</th>\n",
       "      <td>2.12 Crore</td>\n",
       "      <td>House</td>\n",
       "      <td>0</td>\n",
       "      <td>0</td>\n",
       "      <td>NaN</td>\n",
       "      <td>Bahria Town Karachi, Karachi, Sindh</td>\n",
       "      <td>Bahria Sports City, Bahria Town Karachi, Karac...</td>\n",
       "      <td>4 BEDS LUXURY SPORTS CITY VILLA FOR RENT BAHRI...</td>\n",
       "      <td>Bedrooms: 4,Bathrooms: 4,Kitchens: 2</td>\n",
       "    </tr>\n",
       "    <tr>\n",
       "      <th>3</th>\n",
       "      <td>1.5 Crore</td>\n",
       "      <td>House</td>\n",
       "      <td>0</td>\n",
       "      <td>0</td>\n",
       "      <td>NaN</td>\n",
       "      <td>Bahria Town Karachi, Karachi, Sindh</td>\n",
       "      <td>Bahria Town - Precinct 31, Bahria Town Karachi...</td>\n",
       "      <td>3 BEDS LUXURY 235 SQ YARDS VILLA FOR SALE LOCA...</td>\n",
       "      <td>Bedrooms: 3,Bathrooms: 3,Kitchens: 2</td>\n",
       "    </tr>\n",
       "    <tr>\n",
       "      <th>4</th>\n",
       "      <td>4 Crore</td>\n",
       "      <td>Flat</td>\n",
       "      <td>3</td>\n",
       "      <td>3</td>\n",
       "      <td>200 Sq. Yd.</td>\n",
       "      <td>Clifton, Karachi, Sindh</td>\n",
       "      <td>Clifton - Block 9, Clifton, Karachi, Sindh</td>\n",
       "      <td>Apartment for sale</td>\n",
       "      <td>Flooring,Electricity Backup,Broadband Internet...</td>\n",
       "    </tr>\n",
       "  </tbody>\n",
       "</table>\n",
       "</div>"
      ],
      "text/plain": [
       "        price   type  bedrooms  bathrooms         area  \\\n",
       "0  11.5 Crore  House         5          6  600 Sq. Yd.   \n",
       "1  1.45 Crore  House         0          0          NaN   \n",
       "2  2.12 Crore  House         0          0          NaN   \n",
       "3   1.5 Crore  House         0          0          NaN   \n",
       "4     4 Crore   Flat         3          3  200 Sq. Yd.   \n",
       "\n",
       "                              location  \\\n",
       "0          DHA Defence, Karachi, Sindh   \n",
       "1  Bahria Town Karachi, Karachi, Sindh   \n",
       "2  Bahria Town Karachi, Karachi, Sindh   \n",
       "3  Bahria Town Karachi, Karachi, Sindh   \n",
       "4              Clifton, Karachi, Sindh   \n",
       "\n",
       "                                   complete location  \\\n",
       "0           DHA Phase 6, DHA Defence, Karachi, Sindh   \n",
       "1  Bahria Town - Ali Block, Bahria Town - Precinc...   \n",
       "2  Bahria Sports City, Bahria Town Karachi, Karac...   \n",
       "3  Bahria Town - Precinct 31, Bahria Town Karachi...   \n",
       "4         Clifton - Block 9, Clifton, Karachi, Sindh   \n",
       "\n",
       "                                         description  \\\n",
       "0             Chance Deal 600 Yard Bungalow For Sale   \n",
       "1  3 BEDS LUXURY 125 SQ YARDS VILLA FOR SALE LOCA...   \n",
       "2  4 BEDS LUXURY SPORTS CITY VILLA FOR RENT BAHRI...   \n",
       "3  3 BEDS LUXURY 235 SQ YARDS VILLA FOR SALE LOCA...   \n",
       "4                                 Apartment for sale   \n",
       "\n",
       "                                            keywords  \n",
       "0  Built in year: 1,Parking Spaces: 5,Flooring,Ot...  \n",
       "1               Bedrooms: 3,Bathrooms: 3,Kitchens: 2  \n",
       "2               Bedrooms: 4,Bathrooms: 4,Kitchens: 2  \n",
       "3               Bedrooms: 3,Bathrooms: 3,Kitchens: 2  \n",
       "4  Flooring,Electricity Backup,Broadband Internet...  "
      ]
     },
     "execution_count": 200,
     "metadata": {},
     "output_type": "execute_result"
    }
   ],
   "source": [
    "df = df[df['type'].isin(['House','Flat'])]\n",
    "df.head()"
   ]
  },
  {
   "cell_type": "code",
   "execution_count": 201,
   "id": "b7e15c5f",
   "metadata": {},
   "outputs": [
    {
     "data": {
      "text/plain": [
       "(8355, 9)"
      ]
     },
     "execution_count": 201,
     "metadata": {},
     "output_type": "execute_result"
    }
   ],
   "source": [
    "df.shape\n"
   ]
  },
  {
   "cell_type": "markdown",
   "id": "aceaa95a",
   "metadata": {},
   "source": [
    "<h3> we notice that area has missing values in some rows and and bathroom and bedrooms has \"0\" value in some rows which is not possible for a house or flat to have zero bedrooms and bathrooms and for this purpose we will split our data containing zero values of the bathroom and bedroom and clean that dataset further.</h3>"
   ]
  },
  {
   "cell_type": "code",
   "execution_count": 202,
   "id": "90a6916d",
   "metadata": {},
   "outputs": [],
   "source": [
    "uncleaned_data = df[(df['bedrooms'] == 0) | (df['bathrooms'] == 0)]\n",
    "\n",
    "# data containing all the non zero values of bedroom and bathroom\n",
    "df = df[(df['bedrooms'] != 0) & (df['bathrooms'] != 0)]"
   ]
  },
  {
   "cell_type": "code",
   "execution_count": 203,
   "id": "9cdb17d6",
   "metadata": {},
   "outputs": [
    {
     "data": {
      "text/html": [
       "<div>\n",
       "<style scoped>\n",
       "    .dataframe tbody tr th:only-of-type {\n",
       "        vertical-align: middle;\n",
       "    }\n",
       "\n",
       "    .dataframe tbody tr th {\n",
       "        vertical-align: top;\n",
       "    }\n",
       "\n",
       "    .dataframe thead th {\n",
       "        text-align: right;\n",
       "    }\n",
       "</style>\n",
       "<table border=\"1\" class=\"dataframe\">\n",
       "  <thead>\n",
       "    <tr style=\"text-align: right;\">\n",
       "      <th></th>\n",
       "      <th>price</th>\n",
       "      <th>type</th>\n",
       "      <th>bedrooms</th>\n",
       "      <th>bathrooms</th>\n",
       "      <th>area</th>\n",
       "      <th>location</th>\n",
       "      <th>complete location</th>\n",
       "      <th>description</th>\n",
       "      <th>keywords</th>\n",
       "    </tr>\n",
       "  </thead>\n",
       "  <tbody>\n",
       "    <tr>\n",
       "      <th>0</th>\n",
       "      <td>11.5 Crore</td>\n",
       "      <td>House</td>\n",
       "      <td>5</td>\n",
       "      <td>6</td>\n",
       "      <td>600 Sq. Yd.</td>\n",
       "      <td>DHA Defence, Karachi, Sindh</td>\n",
       "      <td>DHA Phase 6, DHA Defence, Karachi, Sindh</td>\n",
       "      <td>Chance Deal 600 Yard Bungalow For Sale</td>\n",
       "      <td>Built in year: 1,Parking Spaces: 5,Flooring,Ot...</td>\n",
       "    </tr>\n",
       "    <tr>\n",
       "      <th>4</th>\n",
       "      <td>4 Crore</td>\n",
       "      <td>Flat</td>\n",
       "      <td>3</td>\n",
       "      <td>3</td>\n",
       "      <td>200 Sq. Yd.</td>\n",
       "      <td>Clifton, Karachi, Sindh</td>\n",
       "      <td>Clifton - Block 9, Clifton, Karachi, Sindh</td>\n",
       "      <td>Apartment for sale</td>\n",
       "      <td>Flooring,Electricity Backup,Broadband Internet...</td>\n",
       "    </tr>\n",
       "    <tr>\n",
       "      <th>5</th>\n",
       "      <td>9 Crore</td>\n",
       "      <td>House</td>\n",
       "      <td>7</td>\n",
       "      <td>6</td>\n",
       "      <td>500 Sq. Yd.</td>\n",
       "      <td>DHA Defence, Karachi, Sindh</td>\n",
       "      <td>DHA Phase 7, DHA Defence, Karachi, Sindh</td>\n",
       "      <td>500 Square Yards Bungalow Available For Sale I...</td>\n",
       "      <td>Flooring,Electricity Backup,Bedrooms: 7,Bathro...</td>\n",
       "    </tr>\n",
       "    <tr>\n",
       "      <th>8</th>\n",
       "      <td>6 Crore</td>\n",
       "      <td>Flat</td>\n",
       "      <td>3</td>\n",
       "      <td>4</td>\n",
       "      <td>200 Sq. Yd.</td>\n",
       "      <td>Clifton, Karachi, Sindh</td>\n",
       "      <td>Clifton - Block 8, Clifton, Karachi, Sindh</td>\n",
       "      <td>Clifton Block 8 Near 3 Talwar</td>\n",
       "      <td>Built in year: 2022,Parking Spaces: 1,Flooring...</td>\n",
       "    </tr>\n",
       "    <tr>\n",
       "      <th>9</th>\n",
       "      <td>3.7 Crore</td>\n",
       "      <td>Flat</td>\n",
       "      <td>3</td>\n",
       "      <td>3</td>\n",
       "      <td>244 Sq. Yd.</td>\n",
       "      <td>Clifton, Karachi, Sindh</td>\n",
       "      <td>Clifton, Karachi, Sindh</td>\n",
       "      <td>flat for sale Clifton Platinium residency 3 be...</td>\n",
       "      <td>Flooring,Floor: 3,Elevators: 1,Bedrooms: 3,Bat...</td>\n",
       "    </tr>\n",
       "  </tbody>\n",
       "</table>\n",
       "</div>"
      ],
      "text/plain": [
       "        price   type  bedrooms  bathrooms         area  \\\n",
       "0  11.5 Crore  House         5          6  600 Sq. Yd.   \n",
       "4     4 Crore   Flat         3          3  200 Sq. Yd.   \n",
       "5     9 Crore  House         7          6  500 Sq. Yd.   \n",
       "8     6 Crore   Flat         3          4  200 Sq. Yd.   \n",
       "9   3.7 Crore   Flat         3          3  244 Sq. Yd.   \n",
       "\n",
       "                      location                           complete location  \\\n",
       "0  DHA Defence, Karachi, Sindh    DHA Phase 6, DHA Defence, Karachi, Sindh   \n",
       "4      Clifton, Karachi, Sindh  Clifton - Block 9, Clifton, Karachi, Sindh   \n",
       "5  DHA Defence, Karachi, Sindh    DHA Phase 7, DHA Defence, Karachi, Sindh   \n",
       "8      Clifton, Karachi, Sindh  Clifton - Block 8, Clifton, Karachi, Sindh   \n",
       "9      Clifton, Karachi, Sindh                     Clifton, Karachi, Sindh   \n",
       "\n",
       "                                         description  \\\n",
       "0             Chance Deal 600 Yard Bungalow For Sale   \n",
       "4                                 Apartment for sale   \n",
       "5  500 Square Yards Bungalow Available For Sale I...   \n",
       "8                      Clifton Block 8 Near 3 Talwar   \n",
       "9  flat for sale Clifton Platinium residency 3 be...   \n",
       "\n",
       "                                            keywords  \n",
       "0  Built in year: 1,Parking Spaces: 5,Flooring,Ot...  \n",
       "4  Flooring,Electricity Backup,Broadband Internet...  \n",
       "5  Flooring,Electricity Backup,Bedrooms: 7,Bathro...  \n",
       "8  Built in year: 2022,Parking Spaces: 1,Flooring...  \n",
       "9  Flooring,Floor: 3,Elevators: 1,Bedrooms: 3,Bat...  "
      ]
     },
     "execution_count": 203,
     "metadata": {},
     "output_type": "execute_result"
    }
   ],
   "source": [
    "df.head()"
   ]
  },
  {
   "cell_type": "code",
   "execution_count": 204,
   "id": "61a7ccdf",
   "metadata": {},
   "outputs": [
    {
     "data": {
      "text/html": [
       "<div>\n",
       "<style scoped>\n",
       "    .dataframe tbody tr th:only-of-type {\n",
       "        vertical-align: middle;\n",
       "    }\n",
       "\n",
       "    .dataframe tbody tr th {\n",
       "        vertical-align: top;\n",
       "    }\n",
       "\n",
       "    .dataframe thead th {\n",
       "        text-align: right;\n",
       "    }\n",
       "</style>\n",
       "<table border=\"1\" class=\"dataframe\">\n",
       "  <thead>\n",
       "    <tr style=\"text-align: right;\">\n",
       "      <th></th>\n",
       "      <th>price</th>\n",
       "      <th>type</th>\n",
       "      <th>bedrooms</th>\n",
       "      <th>bathrooms</th>\n",
       "      <th>area</th>\n",
       "      <th>location</th>\n",
       "      <th>complete location</th>\n",
       "      <th>description</th>\n",
       "      <th>keywords</th>\n",
       "    </tr>\n",
       "  </thead>\n",
       "  <tbody>\n",
       "    <tr>\n",
       "      <th>1</th>\n",
       "      <td>1.45 Crore</td>\n",
       "      <td>House</td>\n",
       "      <td>0</td>\n",
       "      <td>0</td>\n",
       "      <td>NaN</td>\n",
       "      <td>Bahria Town Karachi, Karachi, Sindh</td>\n",
       "      <td>Bahria Town - Ali Block, Bahria Town - Precinc...</td>\n",
       "      <td>3 BEDS LUXURY 125 SQ YARDS VILLA FOR SALE LOCA...</td>\n",
       "      <td>Bedrooms: 3,Bathrooms: 3,Kitchens: 2</td>\n",
       "    </tr>\n",
       "    <tr>\n",
       "      <th>2</th>\n",
       "      <td>2.12 Crore</td>\n",
       "      <td>House</td>\n",
       "      <td>0</td>\n",
       "      <td>0</td>\n",
       "      <td>NaN</td>\n",
       "      <td>Bahria Town Karachi, Karachi, Sindh</td>\n",
       "      <td>Bahria Sports City, Bahria Town Karachi, Karac...</td>\n",
       "      <td>4 BEDS LUXURY SPORTS CITY VILLA FOR RENT BAHRI...</td>\n",
       "      <td>Bedrooms: 4,Bathrooms: 4,Kitchens: 2</td>\n",
       "    </tr>\n",
       "    <tr>\n",
       "      <th>3</th>\n",
       "      <td>1.5 Crore</td>\n",
       "      <td>House</td>\n",
       "      <td>0</td>\n",
       "      <td>0</td>\n",
       "      <td>NaN</td>\n",
       "      <td>Bahria Town Karachi, Karachi, Sindh</td>\n",
       "      <td>Bahria Town - Precinct 31, Bahria Town Karachi...</td>\n",
       "      <td>3 BEDS LUXURY 235 SQ YARDS VILLA FOR SALE LOCA...</td>\n",
       "      <td>Bedrooms: 3,Bathrooms: 3,Kitchens: 2</td>\n",
       "    </tr>\n",
       "    <tr>\n",
       "      <th>6</th>\n",
       "      <td>1.45 Crore</td>\n",
       "      <td>House</td>\n",
       "      <td>0</td>\n",
       "      <td>0</td>\n",
       "      <td>NaN</td>\n",
       "      <td>Bahria Town Karachi, Karachi, Sindh</td>\n",
       "      <td>Bahria Town - Precinct 11-B, Bahria Town - Pre...</td>\n",
       "      <td>3 BEDS LUXURY 152SQ YARDS VILLA FOR SALE LOCAT...</td>\n",
       "      <td>Bedrooms: 3,Bathrooms: 3,Kitchens: 2</td>\n",
       "    </tr>\n",
       "    <tr>\n",
       "      <th>7</th>\n",
       "      <td>1.55 Crore</td>\n",
       "      <td>House</td>\n",
       "      <td>0</td>\n",
       "      <td>0</td>\n",
       "      <td>NaN</td>\n",
       "      <td>Bahria Town Karachi, Karachi, Sindh</td>\n",
       "      <td>Bahria Town - Precinct 27, Bahria Town Karachi...</td>\n",
       "      <td>3 BEDS LUXURY 235 SQ YARDS VILLA FOR SALE LOCA...</td>\n",
       "      <td>Bedrooms: 3,Bathrooms: 3,Kitchens: 2</td>\n",
       "    </tr>\n",
       "  </tbody>\n",
       "</table>\n",
       "</div>"
      ],
      "text/plain": [
       "        price   type  bedrooms  bathrooms area  \\\n",
       "1  1.45 Crore  House         0          0  NaN   \n",
       "2  2.12 Crore  House         0          0  NaN   \n",
       "3   1.5 Crore  House         0          0  NaN   \n",
       "6  1.45 Crore  House         0          0  NaN   \n",
       "7  1.55 Crore  House         0          0  NaN   \n",
       "\n",
       "                              location  \\\n",
       "1  Bahria Town Karachi, Karachi, Sindh   \n",
       "2  Bahria Town Karachi, Karachi, Sindh   \n",
       "3  Bahria Town Karachi, Karachi, Sindh   \n",
       "6  Bahria Town Karachi, Karachi, Sindh   \n",
       "7  Bahria Town Karachi, Karachi, Sindh   \n",
       "\n",
       "                                   complete location  \\\n",
       "1  Bahria Town - Ali Block, Bahria Town - Precinc...   \n",
       "2  Bahria Sports City, Bahria Town Karachi, Karac...   \n",
       "3  Bahria Town - Precinct 31, Bahria Town Karachi...   \n",
       "6  Bahria Town - Precinct 11-B, Bahria Town - Pre...   \n",
       "7  Bahria Town - Precinct 27, Bahria Town Karachi...   \n",
       "\n",
       "                                         description  \\\n",
       "1  3 BEDS LUXURY 125 SQ YARDS VILLA FOR SALE LOCA...   \n",
       "2  4 BEDS LUXURY SPORTS CITY VILLA FOR RENT BAHRI...   \n",
       "3  3 BEDS LUXURY 235 SQ YARDS VILLA FOR SALE LOCA...   \n",
       "6  3 BEDS LUXURY 152SQ YARDS VILLA FOR SALE LOCAT...   \n",
       "7  3 BEDS LUXURY 235 SQ YARDS VILLA FOR SALE LOCA...   \n",
       "\n",
       "                               keywords  \n",
       "1  Bedrooms: 3,Bathrooms: 3,Kitchens: 2  \n",
       "2  Bedrooms: 4,Bathrooms: 4,Kitchens: 2  \n",
       "3  Bedrooms: 3,Bathrooms: 3,Kitchens: 2  \n",
       "6  Bedrooms: 3,Bathrooms: 3,Kitchens: 2  \n",
       "7  Bedrooms: 3,Bathrooms: 3,Kitchens: 2  "
      ]
     },
     "execution_count": 204,
     "metadata": {},
     "output_type": "execute_result"
    }
   ],
   "source": [
    "uncleaned_data.head()"
   ]
  },
  {
   "cell_type": "code",
   "execution_count": 205,
   "id": "c75123ca",
   "metadata": {},
   "outputs": [
    {
     "name": "stdout",
     "output_type": "stream",
     "text": [
      "(7307, 9)\n",
      "(1048, 9)\n"
     ]
    }
   ],
   "source": [
    "print(df.shape)\n",
    "print(uncleaned_data.shape)"
   ]
  },
  {
   "cell_type": "markdown",
   "id": "6935527f",
   "metadata": {},
   "source": [
    "<h3> we notice that in our uncleaned data the keywords column contain the bedrooms and bathrooms value but the data is missing in the bedroom and bathroom column. so first we remove the data that contains null value of keyword and then proceed further</h3>"
   ]
  },
  {
   "cell_type": "code",
   "execution_count": 206,
   "id": "53e229be",
   "metadata": {},
   "outputs": [
    {
     "data": {
      "text/plain": [
       "99"
      ]
     },
     "execution_count": 206,
     "metadata": {},
     "output_type": "execute_result"
    }
   ],
   "source": [
    "#checking how many null values are present in keywords column\n",
    "uncleaned_data['keywords'].isna().sum()"
   ]
  },
  {
   "cell_type": "code",
   "execution_count": 207,
   "id": "9c377272",
   "metadata": {},
   "outputs": [
    {
     "data": {
      "text/plain": [
       "0"
      ]
     },
     "execution_count": 207,
     "metadata": {},
     "output_type": "execute_result"
    }
   ],
   "source": [
    "#removing the null values\n",
    "uncleaned_data = uncleaned_data.dropna(subset=['keywords'])\n",
    "uncleaned_data['keywords'].isna().sum()"
   ]
  },
  {
   "cell_type": "markdown",
   "id": "ec148fd2",
   "metadata": {},
   "source": [
    "<h3>notice that some of the entries in keywords are like this: (Bedrooms: 3,Bathrooms: 3,Kitchens: 2) so we will extract the values of bathrooms and bedroom and convert it in int form and then store it in bedrooms and bathrooms column.</h3>"
   ]
  },
  {
   "cell_type": "code",
   "execution_count": 208,
   "id": "aa617d58",
   "metadata": {},
   "outputs": [
    {
     "data": {
      "text/plain": [
       "price                object\n",
       "type                 object\n",
       "bedrooms              int64\n",
       "bathrooms             int64\n",
       "area                 object\n",
       "location             object\n",
       "complete location    object\n",
       "description          object\n",
       "keywords             object\n",
       "dtype: object"
      ]
     },
     "execution_count": 208,
     "metadata": {},
     "output_type": "execute_result"
    }
   ],
   "source": [
    "uncleaned_data.dtypes"
   ]
  },
  {
   "cell_type": "code",
   "execution_count": 209,
   "id": "8d4c4580",
   "metadata": {},
   "outputs": [],
   "source": [
    "import re"
   ]
  },
  {
   "cell_type": "code",
   "execution_count": 210,
   "id": "2c894be8",
   "metadata": {},
   "outputs": [
    {
     "data": {
      "text/html": [
       "<div>\n",
       "<style scoped>\n",
       "    .dataframe tbody tr th:only-of-type {\n",
       "        vertical-align: middle;\n",
       "    }\n",
       "\n",
       "    .dataframe tbody tr th {\n",
       "        vertical-align: top;\n",
       "    }\n",
       "\n",
       "    .dataframe thead th {\n",
       "        text-align: right;\n",
       "    }\n",
       "</style>\n",
       "<table border=\"1\" class=\"dataframe\">\n",
       "  <thead>\n",
       "    <tr style=\"text-align: right;\">\n",
       "      <th></th>\n",
       "      <th>price</th>\n",
       "      <th>type</th>\n",
       "      <th>bedrooms</th>\n",
       "      <th>bathrooms</th>\n",
       "      <th>area</th>\n",
       "      <th>location</th>\n",
       "      <th>complete location</th>\n",
       "      <th>description</th>\n",
       "      <th>keywords</th>\n",
       "    </tr>\n",
       "  </thead>\n",
       "  <tbody>\n",
       "    <tr>\n",
       "      <th>1</th>\n",
       "      <td>1.45 Crore</td>\n",
       "      <td>House</td>\n",
       "      <td>3.0</td>\n",
       "      <td>3.0</td>\n",
       "      <td>NaN</td>\n",
       "      <td>Bahria Town Karachi, Karachi, Sindh</td>\n",
       "      <td>Bahria Town - Ali Block, Bahria Town - Precinc...</td>\n",
       "      <td>3 BEDS LUXURY 125 SQ YARDS VILLA FOR SALE LOCA...</td>\n",
       "      <td>Bedrooms: 3,Bathrooms: 3,Kitchens: 2</td>\n",
       "    </tr>\n",
       "    <tr>\n",
       "      <th>2</th>\n",
       "      <td>2.12 Crore</td>\n",
       "      <td>House</td>\n",
       "      <td>4.0</td>\n",
       "      <td>4.0</td>\n",
       "      <td>NaN</td>\n",
       "      <td>Bahria Town Karachi, Karachi, Sindh</td>\n",
       "      <td>Bahria Sports City, Bahria Town Karachi, Karac...</td>\n",
       "      <td>4 BEDS LUXURY SPORTS CITY VILLA FOR RENT BAHRI...</td>\n",
       "      <td>Bedrooms: 4,Bathrooms: 4,Kitchens: 2</td>\n",
       "    </tr>\n",
       "    <tr>\n",
       "      <th>3</th>\n",
       "      <td>1.5 Crore</td>\n",
       "      <td>House</td>\n",
       "      <td>3.0</td>\n",
       "      <td>3.0</td>\n",
       "      <td>NaN</td>\n",
       "      <td>Bahria Town Karachi, Karachi, Sindh</td>\n",
       "      <td>Bahria Town - Precinct 31, Bahria Town Karachi...</td>\n",
       "      <td>3 BEDS LUXURY 235 SQ YARDS VILLA FOR SALE LOCA...</td>\n",
       "      <td>Bedrooms: 3,Bathrooms: 3,Kitchens: 2</td>\n",
       "    </tr>\n",
       "    <tr>\n",
       "      <th>6</th>\n",
       "      <td>1.45 Crore</td>\n",
       "      <td>House</td>\n",
       "      <td>3.0</td>\n",
       "      <td>3.0</td>\n",
       "      <td>NaN</td>\n",
       "      <td>Bahria Town Karachi, Karachi, Sindh</td>\n",
       "      <td>Bahria Town - Precinct 11-B, Bahria Town - Pre...</td>\n",
       "      <td>3 BEDS LUXURY 152SQ YARDS VILLA FOR SALE LOCAT...</td>\n",
       "      <td>Bedrooms: 3,Bathrooms: 3,Kitchens: 2</td>\n",
       "    </tr>\n",
       "    <tr>\n",
       "      <th>7</th>\n",
       "      <td>1.55 Crore</td>\n",
       "      <td>House</td>\n",
       "      <td>3.0</td>\n",
       "      <td>3.0</td>\n",
       "      <td>NaN</td>\n",
       "      <td>Bahria Town Karachi, Karachi, Sindh</td>\n",
       "      <td>Bahria Town - Precinct 27, Bahria Town Karachi...</td>\n",
       "      <td>3 BEDS LUXURY 235 SQ YARDS VILLA FOR SALE LOCA...</td>\n",
       "      <td>Bedrooms: 3,Bathrooms: 3,Kitchens: 2</td>\n",
       "    </tr>\n",
       "  </tbody>\n",
       "</table>\n",
       "</div>"
      ],
      "text/plain": [
       "        price   type  bedrooms  bathrooms area  \\\n",
       "1  1.45 Crore  House       3.0        3.0  NaN   \n",
       "2  2.12 Crore  House       4.0        4.0  NaN   \n",
       "3   1.5 Crore  House       3.0        3.0  NaN   \n",
       "6  1.45 Crore  House       3.0        3.0  NaN   \n",
       "7  1.55 Crore  House       3.0        3.0  NaN   \n",
       "\n",
       "                              location  \\\n",
       "1  Bahria Town Karachi, Karachi, Sindh   \n",
       "2  Bahria Town Karachi, Karachi, Sindh   \n",
       "3  Bahria Town Karachi, Karachi, Sindh   \n",
       "6  Bahria Town Karachi, Karachi, Sindh   \n",
       "7  Bahria Town Karachi, Karachi, Sindh   \n",
       "\n",
       "                                   complete location  \\\n",
       "1  Bahria Town - Ali Block, Bahria Town - Precinc...   \n",
       "2  Bahria Sports City, Bahria Town Karachi, Karac...   \n",
       "3  Bahria Town - Precinct 31, Bahria Town Karachi...   \n",
       "6  Bahria Town - Precinct 11-B, Bahria Town - Pre...   \n",
       "7  Bahria Town - Precinct 27, Bahria Town Karachi...   \n",
       "\n",
       "                                         description  \\\n",
       "1  3 BEDS LUXURY 125 SQ YARDS VILLA FOR SALE LOCA...   \n",
       "2  4 BEDS LUXURY SPORTS CITY VILLA FOR RENT BAHRI...   \n",
       "3  3 BEDS LUXURY 235 SQ YARDS VILLA FOR SALE LOCA...   \n",
       "6  3 BEDS LUXURY 152SQ YARDS VILLA FOR SALE LOCAT...   \n",
       "7  3 BEDS LUXURY 235 SQ YARDS VILLA FOR SALE LOCA...   \n",
       "\n",
       "                               keywords  \n",
       "1  Bedrooms: 3,Bathrooms: 3,Kitchens: 2  \n",
       "2  Bedrooms: 4,Bathrooms: 4,Kitchens: 2  \n",
       "3  Bedrooms: 3,Bathrooms: 3,Kitchens: 2  \n",
       "6  Bedrooms: 3,Bathrooms: 3,Kitchens: 2  \n",
       "7  Bedrooms: 3,Bathrooms: 3,Kitchens: 2  "
      ]
     },
     "execution_count": 210,
     "metadata": {},
     "output_type": "execute_result"
    }
   ],
   "source": [
    "# Define a function to extract the integer value from a string\n",
    "def extract_integer(text):\n",
    "    try:\n",
    "        value = int(re.search(r'\\d+', text).group())\n",
    "        return value\n",
    "    except AttributeError:\n",
    "        return None\n",
    "\n",
    "# Extract bedrooms and bathrooms values from \"keywords\" column\n",
    "uncleaned_data['bedrooms'] = uncleaned_data['keywords'].apply(lambda x: extract_integer(x.split(',')[0]) if 'Bedrooms: ' in x else None)\n",
    "uncleaned_data['bathrooms'] = uncleaned_data['keywords'].apply(lambda x: extract_integer(x.split(',')[1]) if 'Bathrooms: ' in x else None)\n",
    "\n",
    "# Print the modified DataFrame\n",
    "uncleaned_data.head()"
   ]
  },
  {
   "cell_type": "code",
   "execution_count": 211,
   "id": "f64593fc",
   "metadata": {},
   "outputs": [
    {
     "name": "stdout",
     "output_type": "stream",
     "text": [
      "853\n",
      "841\n"
     ]
    }
   ],
   "source": [
    "print(uncleaned_data['bathrooms'].isna().sum())\n",
    "print(uncleaned_data['bedrooms'].isna().sum())"
   ]
  },
  {
   "cell_type": "markdown",
   "id": "dcf37b1a",
   "metadata": {},
   "source": [
    "<h3>we notice that there are still missing values in bedroom and bathrooms column so we will drop these rows.</h3>"
   ]
  },
  {
   "cell_type": "code",
   "execution_count": 212,
   "id": "bdcf120c",
   "metadata": {},
   "outputs": [
    {
     "name": "stdout",
     "output_type": "stream",
     "text": [
      "0\n",
      "0\n"
     ]
    }
   ],
   "source": [
    "uncleaned_data.dropna(subset=['bathrooms', 'bedrooms'], inplace=True)\n",
    "print(uncleaned_data['bathrooms'].isna().sum())\n",
    "print(uncleaned_data['bedrooms'].isna().sum())"
   ]
  },
  {
   "cell_type": "code",
   "execution_count": 213,
   "id": "4c92eec2",
   "metadata": {},
   "outputs": [
    {
     "data": {
      "text/plain": [
       "(95, 9)"
      ]
     },
     "execution_count": 213,
     "metadata": {},
     "output_type": "execute_result"
    }
   ],
   "source": [
    "uncleaned_data.shape"
   ]
  },
  {
   "cell_type": "markdown",
   "id": "7e71ad93",
   "metadata": {},
   "source": [
    "<h3>joining the now cleaned data again with our original df<h3>"
   ]
  },
  {
   "cell_type": "code",
   "execution_count": 214,
   "id": "9cb6283f",
   "metadata": {},
   "outputs": [
    {
     "name": "stdout",
     "output_type": "stream",
     "text": [
      "(7402, 9)\n"
     ]
    },
    {
     "data": {
      "text/html": [
       "<div>\n",
       "<style scoped>\n",
       "    .dataframe tbody tr th:only-of-type {\n",
       "        vertical-align: middle;\n",
       "    }\n",
       "\n",
       "    .dataframe tbody tr th {\n",
       "        vertical-align: top;\n",
       "    }\n",
       "\n",
       "    .dataframe thead th {\n",
       "        text-align: right;\n",
       "    }\n",
       "</style>\n",
       "<table border=\"1\" class=\"dataframe\">\n",
       "  <thead>\n",
       "    <tr style=\"text-align: right;\">\n",
       "      <th></th>\n",
       "      <th>price</th>\n",
       "      <th>type</th>\n",
       "      <th>bedrooms</th>\n",
       "      <th>bathrooms</th>\n",
       "      <th>area</th>\n",
       "      <th>location</th>\n",
       "      <th>complete location</th>\n",
       "      <th>description</th>\n",
       "      <th>keywords</th>\n",
       "    </tr>\n",
       "  </thead>\n",
       "  <tbody>\n",
       "    <tr>\n",
       "      <th>0</th>\n",
       "      <td>11.5 Crore</td>\n",
       "      <td>House</td>\n",
       "      <td>5.0</td>\n",
       "      <td>6.0</td>\n",
       "      <td>600 Sq. Yd.</td>\n",
       "      <td>DHA Defence, Karachi, Sindh</td>\n",
       "      <td>DHA Phase 6, DHA Defence, Karachi, Sindh</td>\n",
       "      <td>Chance Deal 600 Yard Bungalow For Sale</td>\n",
       "      <td>Built in year: 1,Parking Spaces: 5,Flooring,Ot...</td>\n",
       "    </tr>\n",
       "    <tr>\n",
       "      <th>1</th>\n",
       "      <td>4 Crore</td>\n",
       "      <td>Flat</td>\n",
       "      <td>3.0</td>\n",
       "      <td>3.0</td>\n",
       "      <td>200 Sq. Yd.</td>\n",
       "      <td>Clifton, Karachi, Sindh</td>\n",
       "      <td>Clifton - Block 9, Clifton, Karachi, Sindh</td>\n",
       "      <td>Apartment for sale</td>\n",
       "      <td>Flooring,Electricity Backup,Broadband Internet...</td>\n",
       "    </tr>\n",
       "    <tr>\n",
       "      <th>2</th>\n",
       "      <td>9 Crore</td>\n",
       "      <td>House</td>\n",
       "      <td>7.0</td>\n",
       "      <td>6.0</td>\n",
       "      <td>500 Sq. Yd.</td>\n",
       "      <td>DHA Defence, Karachi, Sindh</td>\n",
       "      <td>DHA Phase 7, DHA Defence, Karachi, Sindh</td>\n",
       "      <td>500 Square Yards Bungalow Available For Sale I...</td>\n",
       "      <td>Flooring,Electricity Backup,Bedrooms: 7,Bathro...</td>\n",
       "    </tr>\n",
       "    <tr>\n",
       "      <th>3</th>\n",
       "      <td>6 Crore</td>\n",
       "      <td>Flat</td>\n",
       "      <td>3.0</td>\n",
       "      <td>4.0</td>\n",
       "      <td>200 Sq. Yd.</td>\n",
       "      <td>Clifton, Karachi, Sindh</td>\n",
       "      <td>Clifton - Block 8, Clifton, Karachi, Sindh</td>\n",
       "      <td>Clifton Block 8 Near 3 Talwar</td>\n",
       "      <td>Built in year: 2022,Parking Spaces: 1,Flooring...</td>\n",
       "    </tr>\n",
       "    <tr>\n",
       "      <th>4</th>\n",
       "      <td>3.7 Crore</td>\n",
       "      <td>Flat</td>\n",
       "      <td>3.0</td>\n",
       "      <td>3.0</td>\n",
       "      <td>244 Sq. Yd.</td>\n",
       "      <td>Clifton, Karachi, Sindh</td>\n",
       "      <td>Clifton, Karachi, Sindh</td>\n",
       "      <td>flat for sale Clifton Platinium residency 3 be...</td>\n",
       "      <td>Flooring,Floor: 3,Elevators: 1,Bedrooms: 3,Bat...</td>\n",
       "    </tr>\n",
       "  </tbody>\n",
       "</table>\n",
       "</div>"
      ],
      "text/plain": [
       "        price   type  bedrooms  bathrooms         area  \\\n",
       "0  11.5 Crore  House       5.0        6.0  600 Sq. Yd.   \n",
       "1     4 Crore   Flat       3.0        3.0  200 Sq. Yd.   \n",
       "2     9 Crore  House       7.0        6.0  500 Sq. Yd.   \n",
       "3     6 Crore   Flat       3.0        4.0  200 Sq. Yd.   \n",
       "4   3.7 Crore   Flat       3.0        3.0  244 Sq. Yd.   \n",
       "\n",
       "                      location                           complete location  \\\n",
       "0  DHA Defence, Karachi, Sindh    DHA Phase 6, DHA Defence, Karachi, Sindh   \n",
       "1      Clifton, Karachi, Sindh  Clifton - Block 9, Clifton, Karachi, Sindh   \n",
       "2  DHA Defence, Karachi, Sindh    DHA Phase 7, DHA Defence, Karachi, Sindh   \n",
       "3      Clifton, Karachi, Sindh  Clifton - Block 8, Clifton, Karachi, Sindh   \n",
       "4      Clifton, Karachi, Sindh                     Clifton, Karachi, Sindh   \n",
       "\n",
       "                                         description  \\\n",
       "0             Chance Deal 600 Yard Bungalow For Sale   \n",
       "1                                 Apartment for sale   \n",
       "2  500 Square Yards Bungalow Available For Sale I...   \n",
       "3                      Clifton Block 8 Near 3 Talwar   \n",
       "4  flat for sale Clifton Platinium residency 3 be...   \n",
       "\n",
       "                                            keywords  \n",
       "0  Built in year: 1,Parking Spaces: 5,Flooring,Ot...  \n",
       "1  Flooring,Electricity Backup,Broadband Internet...  \n",
       "2  Flooring,Electricity Backup,Bedrooms: 7,Bathro...  \n",
       "3  Built in year: 2022,Parking Spaces: 1,Flooring...  \n",
       "4  Flooring,Floor: 3,Elevators: 1,Bedrooms: 3,Bat...  "
      ]
     },
     "execution_count": 214,
     "metadata": {},
     "output_type": "execute_result"
    }
   ],
   "source": [
    "df = pd.concat([df, uncleaned_data], ignore_index=True)\n",
    "print(df.shape)\n",
    "df.head()"
   ]
  },
  {
   "cell_type": "markdown",
   "id": "44b8a320",
   "metadata": {},
   "source": [
    "<h3>we notice that there are few row with null value in their area. so we separate the rows with the value of area as null to further analyse it and clean it</h3>"
   ]
  },
  {
   "cell_type": "code",
   "execution_count": 215,
   "id": "3e087a2d",
   "metadata": {},
   "outputs": [
    {
     "data": {
      "text/plain": [
       "129"
      ]
     },
     "execution_count": 215,
     "metadata": {},
     "output_type": "execute_result"
    }
   ],
   "source": [
    "df['area'].isna().sum()"
   ]
  },
  {
   "cell_type": "code",
   "execution_count": 216,
   "id": "fd104d82",
   "metadata": {},
   "outputs": [],
   "source": [
    "# df with all null area value\n",
    "df_with_null_area = df[df['area'].isnull()]\n",
    "\n",
    "# df without any null area value\n",
    "df = df[~df['area'].isnull()]"
   ]
  },
  {
   "cell_type": "code",
   "execution_count": 217,
   "id": "8216e30b",
   "metadata": {},
   "outputs": [
    {
     "name": "stdout",
     "output_type": "stream",
     "text": [
      "129\n",
      "0\n"
     ]
    }
   ],
   "source": [
    "print(df_with_null_area['area'].isna().sum())\n",
    "print(df['area'].isna().sum())\n"
   ]
  },
  {
   "cell_type": "code",
   "execution_count": 218,
   "id": "7de9fb9f",
   "metadata": {},
   "outputs": [
    {
     "name": "stdout",
     "output_type": "stream",
     "text": [
      "(7273, 9)\n",
      "(129, 9)\n"
     ]
    }
   ],
   "source": [
    "print(df.shape)\n",
    "print(df_with_null_area.shape)"
   ]
  },
  {
   "cell_type": "code",
   "execution_count": 219,
   "id": "210674d1",
   "metadata": {},
   "outputs": [
    {
     "data": {
      "text/html": [
       "<div>\n",
       "<style scoped>\n",
       "    .dataframe tbody tr th:only-of-type {\n",
       "        vertical-align: middle;\n",
       "    }\n",
       "\n",
       "    .dataframe tbody tr th {\n",
       "        vertical-align: top;\n",
       "    }\n",
       "\n",
       "    .dataframe thead th {\n",
       "        text-align: right;\n",
       "    }\n",
       "</style>\n",
       "<table border=\"1\" class=\"dataframe\">\n",
       "  <thead>\n",
       "    <tr style=\"text-align: right;\">\n",
       "      <th></th>\n",
       "      <th>price</th>\n",
       "      <th>type</th>\n",
       "      <th>bedrooms</th>\n",
       "      <th>bathrooms</th>\n",
       "      <th>area</th>\n",
       "      <th>location</th>\n",
       "      <th>complete location</th>\n",
       "      <th>description</th>\n",
       "      <th>keywords</th>\n",
       "    </tr>\n",
       "  </thead>\n",
       "  <tbody>\n",
       "    <tr>\n",
       "      <th>285</th>\n",
       "      <td>13 Crore</td>\n",
       "      <td>House</td>\n",
       "      <td>6.0</td>\n",
       "      <td>6.0</td>\n",
       "      <td>NaN</td>\n",
       "      <td>DHA Defence, Karachi, Sindh</td>\n",
       "      <td>DHA Phase 8, DHA Defence, Karachi, Sindh</td>\n",
       "      <td>Monza lnc.</td>\n",
       "      <td>Built in year: 2019,Parking Spaces: 3,Flooring</td>\n",
       "    </tr>\n",
       "    <tr>\n",
       "      <th>1647</th>\n",
       "      <td>65 Lakh</td>\n",
       "      <td>Flat</td>\n",
       "      <td>2.0</td>\n",
       "      <td>2.0</td>\n",
       "      <td>NaN</td>\n",
       "      <td>DHA Defence, Karachi, Sindh</td>\n",
       "      <td>DHA Phase 7, DHA Defence, Karachi, Sindh</td>\n",
       "      <td>Studio for sale brand new 1st floor 2bed loung...</td>\n",
       "      <td>NaN</td>\n",
       "    </tr>\n",
       "    <tr>\n",
       "      <th>1784</th>\n",
       "      <td>3.3 Crore</td>\n",
       "      <td>Flat</td>\n",
       "      <td>4.0</td>\n",
       "      <td>4.0</td>\n",
       "      <td>NaN</td>\n",
       "      <td>DHA Defence, Karachi, Sindh</td>\n",
       "      <td>DHA Phase 5 Extension, DHA Phase 5, DHA Defenc...</td>\n",
       "      <td>dha phase 5 galaxy skyline 3 bedrooms drawing ...</td>\n",
       "      <td>Parking Spaces: 2,Flooring,Electricity Backup,...</td>\n",
       "    </tr>\n",
       "    <tr>\n",
       "      <th>2604</th>\n",
       "      <td>30 Lakh</td>\n",
       "      <td>Flat</td>\n",
       "      <td>1.0</td>\n",
       "      <td>1.0</td>\n",
       "      <td>NaN</td>\n",
       "      <td>Bahria Town Karachi, Karachi, Sindh</td>\n",
       "      <td>GFS Mega Twin Tower, Bahria Town Karachi, Kara...</td>\n",
       "      <td>Bahria Town Karachi comes with world-class Eme...</td>\n",
       "      <td>Built in year: 3,Parking Spaces,Lobby in Build...</td>\n",
       "    </tr>\n",
       "    <tr>\n",
       "      <th>2608</th>\n",
       "      <td>36 Lakh</td>\n",
       "      <td>Flat</td>\n",
       "      <td>1.0</td>\n",
       "      <td>1.0</td>\n",
       "      <td>NaN</td>\n",
       "      <td>Bahria Town Karachi, Karachi, Sindh</td>\n",
       "      <td>Dominion Twin Towers, Bahria Town Karachi, Kar...</td>\n",
       "      <td>Bahria Town Karachi comes with world-class Ame...</td>\n",
       "      <td>Built in year: 3,Parking Spaces: 2,Lobby in Bu...</td>\n",
       "    </tr>\n",
       "  </tbody>\n",
       "</table>\n",
       "</div>"
      ],
      "text/plain": [
       "          price   type  bedrooms  bathrooms area  \\\n",
       "285    13 Crore  House       6.0        6.0  NaN   \n",
       "1647    65 Lakh   Flat       2.0        2.0  NaN   \n",
       "1784  3.3 Crore   Flat       4.0        4.0  NaN   \n",
       "2604    30 Lakh   Flat       1.0        1.0  NaN   \n",
       "2608    36 Lakh   Flat       1.0        1.0  NaN   \n",
       "\n",
       "                                 location  \\\n",
       "285           DHA Defence, Karachi, Sindh   \n",
       "1647          DHA Defence, Karachi, Sindh   \n",
       "1784          DHA Defence, Karachi, Sindh   \n",
       "2604  Bahria Town Karachi, Karachi, Sindh   \n",
       "2608  Bahria Town Karachi, Karachi, Sindh   \n",
       "\n",
       "                                      complete location  \\\n",
       "285            DHA Phase 8, DHA Defence, Karachi, Sindh   \n",
       "1647           DHA Phase 7, DHA Defence, Karachi, Sindh   \n",
       "1784  DHA Phase 5 Extension, DHA Phase 5, DHA Defenc...   \n",
       "2604  GFS Mega Twin Tower, Bahria Town Karachi, Kara...   \n",
       "2608  Dominion Twin Towers, Bahria Town Karachi, Kar...   \n",
       "\n",
       "                                            description  \\\n",
       "285                                         Monza lnc.    \n",
       "1647  Studio for sale brand new 1st floor 2bed loung...   \n",
       "1784  dha phase 5 galaxy skyline 3 bedrooms drawing ...   \n",
       "2604  Bahria Town Karachi comes with world-class Eme...   \n",
       "2608  Bahria Town Karachi comes with world-class Ame...   \n",
       "\n",
       "                                               keywords  \n",
       "285      Built in year: 2019,Parking Spaces: 3,Flooring  \n",
       "1647                                                NaN  \n",
       "1784  Parking Spaces: 2,Flooring,Electricity Backup,...  \n",
       "2604  Built in year: 3,Parking Spaces,Lobby in Build...  \n",
       "2608  Built in year: 3,Parking Spaces: 2,Lobby in Bu...  "
      ]
     },
     "execution_count": 219,
     "metadata": {},
     "output_type": "execute_result"
    }
   ],
   "source": [
    "df_with_null_area.head()"
   ]
  },
  {
   "cell_type": "markdown",
   "id": "84a47421",
   "metadata": {},
   "source": [
    "<h3>we notice that some information about area is stored in \"description\" column around the word \"SQ YARD\" so we create a regular expression to extract the value and store it in \"area\" column</h3>"
   ]
  },
  {
   "cell_type": "code",
   "execution_count": 220,
   "id": "40265ddf",
   "metadata": {},
   "outputs": [
    {
     "data": {
      "text/html": [
       "<div>\n",
       "<style scoped>\n",
       "    .dataframe tbody tr th:only-of-type {\n",
       "        vertical-align: middle;\n",
       "    }\n",
       "\n",
       "    .dataframe tbody tr th {\n",
       "        vertical-align: top;\n",
       "    }\n",
       "\n",
       "    .dataframe thead th {\n",
       "        text-align: right;\n",
       "    }\n",
       "</style>\n",
       "<table border=\"1\" class=\"dataframe\">\n",
       "  <thead>\n",
       "    <tr style=\"text-align: right;\">\n",
       "      <th></th>\n",
       "      <th>price</th>\n",
       "      <th>type</th>\n",
       "      <th>bedrooms</th>\n",
       "      <th>bathrooms</th>\n",
       "      <th>area</th>\n",
       "      <th>location</th>\n",
       "      <th>complete location</th>\n",
       "      <th>description</th>\n",
       "      <th>keywords</th>\n",
       "    </tr>\n",
       "  </thead>\n",
       "  <tbody>\n",
       "    <tr>\n",
       "      <th>285</th>\n",
       "      <td>13 Crore</td>\n",
       "      <td>House</td>\n",
       "      <td>6.0</td>\n",
       "      <td>6.0</td>\n",
       "      <td>NaN</td>\n",
       "      <td>DHA Defence, Karachi, Sindh</td>\n",
       "      <td>DHA Phase 8, DHA Defence, Karachi, Sindh</td>\n",
       "      <td>Monza lnc.</td>\n",
       "      <td>Built in year: 2019,Parking Spaces: 3,Flooring</td>\n",
       "    </tr>\n",
       "    <tr>\n",
       "      <th>1647</th>\n",
       "      <td>65 Lakh</td>\n",
       "      <td>Flat</td>\n",
       "      <td>2.0</td>\n",
       "      <td>2.0</td>\n",
       "      <td>NaN</td>\n",
       "      <td>DHA Defence, Karachi, Sindh</td>\n",
       "      <td>DHA Phase 7, DHA Defence, Karachi, Sindh</td>\n",
       "      <td>Studio for sale brand new 1st floor 2bed loung...</td>\n",
       "      <td>NaN</td>\n",
       "    </tr>\n",
       "    <tr>\n",
       "      <th>1784</th>\n",
       "      <td>3.3 Crore</td>\n",
       "      <td>Flat</td>\n",
       "      <td>4.0</td>\n",
       "      <td>4.0</td>\n",
       "      <td>NaN</td>\n",
       "      <td>DHA Defence, Karachi, Sindh</td>\n",
       "      <td>DHA Phase 5 Extension, DHA Phase 5, DHA Defenc...</td>\n",
       "      <td>dha phase 5 galaxy skyline 3 bedrooms drawing ...</td>\n",
       "      <td>Parking Spaces: 2,Flooring,Electricity Backup,...</td>\n",
       "    </tr>\n",
       "    <tr>\n",
       "      <th>2604</th>\n",
       "      <td>30 Lakh</td>\n",
       "      <td>Flat</td>\n",
       "      <td>1.0</td>\n",
       "      <td>1.0</td>\n",
       "      <td>NaN</td>\n",
       "      <td>Bahria Town Karachi, Karachi, Sindh</td>\n",
       "      <td>GFS Mega Twin Tower, Bahria Town Karachi, Kara...</td>\n",
       "      <td>Bahria Town Karachi comes with world-class Eme...</td>\n",
       "      <td>Built in year: 3,Parking Spaces,Lobby in Build...</td>\n",
       "    </tr>\n",
       "    <tr>\n",
       "      <th>2608</th>\n",
       "      <td>36 Lakh</td>\n",
       "      <td>Flat</td>\n",
       "      <td>1.0</td>\n",
       "      <td>1.0</td>\n",
       "      <td>NaN</td>\n",
       "      <td>Bahria Town Karachi, Karachi, Sindh</td>\n",
       "      <td>Dominion Twin Towers, Bahria Town Karachi, Kar...</td>\n",
       "      <td>Bahria Town Karachi comes with world-class Ame...</td>\n",
       "      <td>Built in year: 3,Parking Spaces: 2,Lobby in Bu...</td>\n",
       "    </tr>\n",
       "  </tbody>\n",
       "</table>\n",
       "</div>"
      ],
      "text/plain": [
       "          price   type  bedrooms  bathrooms  area  \\\n",
       "285    13 Crore  House       6.0        6.0   NaN   \n",
       "1647    65 Lakh   Flat       2.0        2.0   NaN   \n",
       "1784  3.3 Crore   Flat       4.0        4.0   NaN   \n",
       "2604    30 Lakh   Flat       1.0        1.0   NaN   \n",
       "2608    36 Lakh   Flat       1.0        1.0   NaN   \n",
       "\n",
       "                                 location  \\\n",
       "285           DHA Defence, Karachi, Sindh   \n",
       "1647          DHA Defence, Karachi, Sindh   \n",
       "1784          DHA Defence, Karachi, Sindh   \n",
       "2604  Bahria Town Karachi, Karachi, Sindh   \n",
       "2608  Bahria Town Karachi, Karachi, Sindh   \n",
       "\n",
       "                                      complete location  \\\n",
       "285            DHA Phase 8, DHA Defence, Karachi, Sindh   \n",
       "1647           DHA Phase 7, DHA Defence, Karachi, Sindh   \n",
       "1784  DHA Phase 5 Extension, DHA Phase 5, DHA Defenc...   \n",
       "2604  GFS Mega Twin Tower, Bahria Town Karachi, Kara...   \n",
       "2608  Dominion Twin Towers, Bahria Town Karachi, Kar...   \n",
       "\n",
       "                                            description  \\\n",
       "285                                         Monza lnc.    \n",
       "1647  Studio for sale brand new 1st floor 2bed loung...   \n",
       "1784  dha phase 5 galaxy skyline 3 bedrooms drawing ...   \n",
       "2604  Bahria Town Karachi comes with world-class Eme...   \n",
       "2608  Bahria Town Karachi comes with world-class Ame...   \n",
       "\n",
       "                                               keywords  \n",
       "285      Built in year: 2019,Parking Spaces: 3,Flooring  \n",
       "1647                                                NaN  \n",
       "1784  Parking Spaces: 2,Flooring,Electricity Backup,...  \n",
       "2604  Built in year: 3,Parking Spaces,Lobby in Build...  \n",
       "2608  Built in year: 3,Parking Spaces: 2,Lobby in Bu...  "
      ]
     },
     "execution_count": 220,
     "metadata": {},
     "output_type": "execute_result"
    }
   ],
   "source": [
    "#pattern = r'(\\d+) sq yards|(\\d+) SQ YARDS|(\\d+) Sq Yards|(\\d+) yards|(\\d+) YARDS |(\\d+)SQ YARDS'\n",
    "pattern = r'(\\d+)\\s*(?:sq yards?|SQ YARDS?|Sq Yards?|yards?|YARDS?)\\s*(?:,\\s*(\\d+))?'\n",
    "\n",
    "# Extract the area values from the descriptions using the regular expression pattern\n",
    "df_with_null_area['area'] = df_with_null_area['description'].str.extract(pattern, flags=re.IGNORECASE).replace(pd.NA, np.nan).astype(float).max(axis=1)\n",
    "\n",
    "# Print the updated DataFrame\n",
    "df_with_null_area.head()"
   ]
  },
  {
   "cell_type": "code",
   "execution_count": 221,
   "id": "bccfe5be",
   "metadata": {},
   "outputs": [
    {
     "name": "stdout",
     "output_type": "stream",
     "text": [
      "93\n",
      "[  nan  300.  125.  235.  152.  350.   75. 1000.]\n"
     ]
    }
   ],
   "source": [
    "print(df_with_null_area['area'].isna().sum())\n",
    "print(df_with_null_area['area'].unique())"
   ]
  },
  {
   "cell_type": "code",
   "execution_count": 222,
   "id": "146331f9",
   "metadata": {},
   "outputs": [
    {
     "data": {
      "text/html": [
       "<div>\n",
       "<style scoped>\n",
       "    .dataframe tbody tr th:only-of-type {\n",
       "        vertical-align: middle;\n",
       "    }\n",
       "\n",
       "    .dataframe tbody tr th {\n",
       "        vertical-align: top;\n",
       "    }\n",
       "\n",
       "    .dataframe thead th {\n",
       "        text-align: right;\n",
       "    }\n",
       "</style>\n",
       "<table border=\"1\" class=\"dataframe\">\n",
       "  <thead>\n",
       "    <tr style=\"text-align: right;\">\n",
       "      <th></th>\n",
       "      <th>price</th>\n",
       "      <th>type</th>\n",
       "      <th>bedrooms</th>\n",
       "      <th>bathrooms</th>\n",
       "      <th>area</th>\n",
       "      <th>location</th>\n",
       "      <th>complete location</th>\n",
       "      <th>description</th>\n",
       "      <th>keywords</th>\n",
       "    </tr>\n",
       "  </thead>\n",
       "  <tbody>\n",
       "    <tr>\n",
       "      <th>285</th>\n",
       "      <td>13 Crore</td>\n",
       "      <td>House</td>\n",
       "      <td>6.0</td>\n",
       "      <td>6.0</td>\n",
       "      <td>NaN</td>\n",
       "      <td>DHA Defence, Karachi, Sindh</td>\n",
       "      <td>DHA Phase 8, DHA Defence, Karachi, Sindh</td>\n",
       "      <td>Monza lnc.</td>\n",
       "      <td>Built in year: 2019,Parking Spaces: 3,Flooring</td>\n",
       "    </tr>\n",
       "    <tr>\n",
       "      <th>1647</th>\n",
       "      <td>65 Lakh</td>\n",
       "      <td>Flat</td>\n",
       "      <td>2.0</td>\n",
       "      <td>2.0</td>\n",
       "      <td>NaN</td>\n",
       "      <td>DHA Defence, Karachi, Sindh</td>\n",
       "      <td>DHA Phase 7, DHA Defence, Karachi, Sindh</td>\n",
       "      <td>Studio for sale brand new 1st floor 2bed loung...</td>\n",
       "      <td>NaN</td>\n",
       "    </tr>\n",
       "    <tr>\n",
       "      <th>1784</th>\n",
       "      <td>3.3 Crore</td>\n",
       "      <td>Flat</td>\n",
       "      <td>4.0</td>\n",
       "      <td>4.0</td>\n",
       "      <td>NaN</td>\n",
       "      <td>DHA Defence, Karachi, Sindh</td>\n",
       "      <td>DHA Phase 5 Extension, DHA Phase 5, DHA Defenc...</td>\n",
       "      <td>dha phase 5 galaxy skyline 3 bedrooms drawing ...</td>\n",
       "      <td>Parking Spaces: 2,Flooring,Electricity Backup,...</td>\n",
       "    </tr>\n",
       "    <tr>\n",
       "      <th>2604</th>\n",
       "      <td>30 Lakh</td>\n",
       "      <td>Flat</td>\n",
       "      <td>1.0</td>\n",
       "      <td>1.0</td>\n",
       "      <td>NaN</td>\n",
       "      <td>Bahria Town Karachi, Karachi, Sindh</td>\n",
       "      <td>GFS Mega Twin Tower, Bahria Town Karachi, Kara...</td>\n",
       "      <td>Bahria Town Karachi comes with world-class Eme...</td>\n",
       "      <td>Built in year: 3,Parking Spaces,Lobby in Build...</td>\n",
       "    </tr>\n",
       "    <tr>\n",
       "      <th>2608</th>\n",
       "      <td>36 Lakh</td>\n",
       "      <td>Flat</td>\n",
       "      <td>1.0</td>\n",
       "      <td>1.0</td>\n",
       "      <td>NaN</td>\n",
       "      <td>Bahria Town Karachi, Karachi, Sindh</td>\n",
       "      <td>Dominion Twin Towers, Bahria Town Karachi, Kar...</td>\n",
       "      <td>Bahria Town Karachi comes with world-class Ame...</td>\n",
       "      <td>Built in year: 3,Parking Spaces: 2,Lobby in Bu...</td>\n",
       "    </tr>\n",
       "  </tbody>\n",
       "</table>\n",
       "</div>"
      ],
      "text/plain": [
       "          price   type  bedrooms  bathrooms  area  \\\n",
       "285    13 Crore  House       6.0        6.0   NaN   \n",
       "1647    65 Lakh   Flat       2.0        2.0   NaN   \n",
       "1784  3.3 Crore   Flat       4.0        4.0   NaN   \n",
       "2604    30 Lakh   Flat       1.0        1.0   NaN   \n",
       "2608    36 Lakh   Flat       1.0        1.0   NaN   \n",
       "\n",
       "                                 location  \\\n",
       "285           DHA Defence, Karachi, Sindh   \n",
       "1647          DHA Defence, Karachi, Sindh   \n",
       "1784          DHA Defence, Karachi, Sindh   \n",
       "2604  Bahria Town Karachi, Karachi, Sindh   \n",
       "2608  Bahria Town Karachi, Karachi, Sindh   \n",
       "\n",
       "                                      complete location  \\\n",
       "285            DHA Phase 8, DHA Defence, Karachi, Sindh   \n",
       "1647           DHA Phase 7, DHA Defence, Karachi, Sindh   \n",
       "1784  DHA Phase 5 Extension, DHA Phase 5, DHA Defenc...   \n",
       "2604  GFS Mega Twin Tower, Bahria Town Karachi, Kara...   \n",
       "2608  Dominion Twin Towers, Bahria Town Karachi, Kar...   \n",
       "\n",
       "                                            description  \\\n",
       "285                                         Monza lnc.    \n",
       "1647  Studio for sale brand new 1st floor 2bed loung...   \n",
       "1784  dha phase 5 galaxy skyline 3 bedrooms drawing ...   \n",
       "2604  Bahria Town Karachi comes with world-class Eme...   \n",
       "2608  Bahria Town Karachi comes with world-class Ame...   \n",
       "\n",
       "                                               keywords  \n",
       "285      Built in year: 2019,Parking Spaces: 3,Flooring  \n",
       "1647                                                NaN  \n",
       "1784  Parking Spaces: 2,Flooring,Electricity Backup,...  \n",
       "2604  Built in year: 3,Parking Spaces,Lobby in Build...  \n",
       "2608  Built in year: 3,Parking Spaces: 2,Lobby in Bu...  "
      ]
     },
     "execution_count": 222,
     "metadata": {},
     "output_type": "execute_result"
    }
   ],
   "source": [
    "df_with_null_area.head()"
   ]
  },
  {
   "cell_type": "markdown",
   "id": "1930f336",
   "metadata": {},
   "source": [
    "<h3>there are still missing values present in area and we notice that some information of area is still present in \"description\" column in sq feet value, so we extract that value through regular expression, convert it in square yards and store it in \"area\" column</h3>"
   ]
  },
  {
   "cell_type": "code",
   "execution_count": 223,
   "id": "359772ef",
   "metadata": {},
   "outputs": [],
   "source": [
    "pattern_sqft = r'(\\d+)\\s*(?:SQ FEET?|Sq Feet?|sq feet?|sqfeet?|SQFEET?|feet)\\s*(?:,\\s*(\\d+))?'\n",
    "\n",
    "# Extract the area values in square feet from the descriptions using the regular expression pattern\n",
    "def extract_and_convert_area(description):\n",
    "    match = re.search(pattern_sqft, description, flags=re.IGNORECASE)\n",
    "    if match:\n",
    "        area_sqft = float(match.group(1))\n",
    "        area_yards = area_sqft * 0.111111\n",
    "        return area_yards\n",
    "    else:\n",
    "        return None\n",
    "\n",
    "mask = df_with_null_area['area'].isnull()\n",
    "\n",
    "# Apply the function to the 'description' column and assign the converted values to the 'area' column\n",
    "df_with_null_area.loc[mask, 'area'] = df_with_null_area.loc[mask, 'description'].apply(extract_and_convert_area)\n"
   ]
  },
  {
   "cell_type": "code",
   "execution_count": 224,
   "id": "1f7648ff",
   "metadata": {},
   "outputs": [
    {
     "data": {
      "text/html": [
       "<div>\n",
       "<style scoped>\n",
       "    .dataframe tbody tr th:only-of-type {\n",
       "        vertical-align: middle;\n",
       "    }\n",
       "\n",
       "    .dataframe tbody tr th {\n",
       "        vertical-align: top;\n",
       "    }\n",
       "\n",
       "    .dataframe thead th {\n",
       "        text-align: right;\n",
       "    }\n",
       "</style>\n",
       "<table border=\"1\" class=\"dataframe\">\n",
       "  <thead>\n",
       "    <tr style=\"text-align: right;\">\n",
       "      <th></th>\n",
       "      <th>price</th>\n",
       "      <th>type</th>\n",
       "      <th>bedrooms</th>\n",
       "      <th>bathrooms</th>\n",
       "      <th>area</th>\n",
       "      <th>location</th>\n",
       "      <th>complete location</th>\n",
       "      <th>description</th>\n",
       "      <th>keywords</th>\n",
       "    </tr>\n",
       "  </thead>\n",
       "  <tbody>\n",
       "    <tr>\n",
       "      <th>285</th>\n",
       "      <td>13 Crore</td>\n",
       "      <td>House</td>\n",
       "      <td>6.0</td>\n",
       "      <td>6.0</td>\n",
       "      <td>NaN</td>\n",
       "      <td>DHA Defence, Karachi, Sindh</td>\n",
       "      <td>DHA Phase 8, DHA Defence, Karachi, Sindh</td>\n",
       "      <td>Monza lnc.</td>\n",
       "      <td>Built in year: 2019,Parking Spaces: 3,Flooring</td>\n",
       "    </tr>\n",
       "    <tr>\n",
       "      <th>1647</th>\n",
       "      <td>65 Lakh</td>\n",
       "      <td>Flat</td>\n",
       "      <td>2.0</td>\n",
       "      <td>2.0</td>\n",
       "      <td>NaN</td>\n",
       "      <td>DHA Defence, Karachi, Sindh</td>\n",
       "      <td>DHA Phase 7, DHA Defence, Karachi, Sindh</td>\n",
       "      <td>Studio for sale brand new 1st floor 2bed loung...</td>\n",
       "      <td>NaN</td>\n",
       "    </tr>\n",
       "    <tr>\n",
       "      <th>1784</th>\n",
       "      <td>3.3 Crore</td>\n",
       "      <td>Flat</td>\n",
       "      <td>4.0</td>\n",
       "      <td>4.0</td>\n",
       "      <td>NaN</td>\n",
       "      <td>DHA Defence, Karachi, Sindh</td>\n",
       "      <td>DHA Phase 5 Extension, DHA Phase 5, DHA Defenc...</td>\n",
       "      <td>dha phase 5 galaxy skyline 3 bedrooms drawing ...</td>\n",
       "      <td>Parking Spaces: 2,Flooring,Electricity Backup,...</td>\n",
       "    </tr>\n",
       "    <tr>\n",
       "      <th>2604</th>\n",
       "      <td>30 Lakh</td>\n",
       "      <td>Flat</td>\n",
       "      <td>1.0</td>\n",
       "      <td>1.0</td>\n",
       "      <td>NaN</td>\n",
       "      <td>Bahria Town Karachi, Karachi, Sindh</td>\n",
       "      <td>GFS Mega Twin Tower, Bahria Town Karachi, Kara...</td>\n",
       "      <td>Bahria Town Karachi comes with world-class Eme...</td>\n",
       "      <td>Built in year: 3,Parking Spaces,Lobby in Build...</td>\n",
       "    </tr>\n",
       "    <tr>\n",
       "      <th>2608</th>\n",
       "      <td>36 Lakh</td>\n",
       "      <td>Flat</td>\n",
       "      <td>1.0</td>\n",
       "      <td>1.0</td>\n",
       "      <td>NaN</td>\n",
       "      <td>Bahria Town Karachi, Karachi, Sindh</td>\n",
       "      <td>Dominion Twin Towers, Bahria Town Karachi, Kar...</td>\n",
       "      <td>Bahria Town Karachi comes with world-class Ame...</td>\n",
       "      <td>Built in year: 3,Parking Spaces: 2,Lobby in Bu...</td>\n",
       "    </tr>\n",
       "  </tbody>\n",
       "</table>\n",
       "</div>"
      ],
      "text/plain": [
       "          price   type  bedrooms  bathrooms  area  \\\n",
       "285    13 Crore  House       6.0        6.0   NaN   \n",
       "1647    65 Lakh   Flat       2.0        2.0   NaN   \n",
       "1784  3.3 Crore   Flat       4.0        4.0   NaN   \n",
       "2604    30 Lakh   Flat       1.0        1.0   NaN   \n",
       "2608    36 Lakh   Flat       1.0        1.0   NaN   \n",
       "\n",
       "                                 location  \\\n",
       "285           DHA Defence, Karachi, Sindh   \n",
       "1647          DHA Defence, Karachi, Sindh   \n",
       "1784          DHA Defence, Karachi, Sindh   \n",
       "2604  Bahria Town Karachi, Karachi, Sindh   \n",
       "2608  Bahria Town Karachi, Karachi, Sindh   \n",
       "\n",
       "                                      complete location  \\\n",
       "285            DHA Phase 8, DHA Defence, Karachi, Sindh   \n",
       "1647           DHA Phase 7, DHA Defence, Karachi, Sindh   \n",
       "1784  DHA Phase 5 Extension, DHA Phase 5, DHA Defenc...   \n",
       "2604  GFS Mega Twin Tower, Bahria Town Karachi, Kara...   \n",
       "2608  Dominion Twin Towers, Bahria Town Karachi, Kar...   \n",
       "\n",
       "                                            description  \\\n",
       "285                                         Monza lnc.    \n",
       "1647  Studio for sale brand new 1st floor 2bed loung...   \n",
       "1784  dha phase 5 galaxy skyline 3 bedrooms drawing ...   \n",
       "2604  Bahria Town Karachi comes with world-class Eme...   \n",
       "2608  Bahria Town Karachi comes with world-class Ame...   \n",
       "\n",
       "                                               keywords  \n",
       "285      Built in year: 2019,Parking Spaces: 3,Flooring  \n",
       "1647                                                NaN  \n",
       "1784  Parking Spaces: 2,Flooring,Electricity Backup,...  \n",
       "2604  Built in year: 3,Parking Spaces,Lobby in Build...  \n",
       "2608  Built in year: 3,Parking Spaces: 2,Lobby in Bu...  "
      ]
     },
     "execution_count": 224,
     "metadata": {},
     "output_type": "execute_result"
    }
   ],
   "source": [
    "df_with_null_area.head()"
   ]
  },
  {
   "cell_type": "code",
   "execution_count": 225,
   "id": "70a3f599",
   "metadata": {},
   "outputs": [
    {
     "name": "stdout",
     "output_type": "stream",
     "text": [
      "61\n",
      "[       nan  300.       125.       235.       152.       122.2221\n",
      "   61.11105  105.55545  350.        75.      1000.     ]\n"
     ]
    }
   ],
   "source": [
    "print(df_with_null_area['area'].isna().sum())\n",
    "print(df_with_null_area['area'].unique())"
   ]
  },
  {
   "cell_type": "markdown",
   "id": "cf58a476",
   "metadata": {},
   "source": [
    "<h3>we remove the remaining rows with area as null values</h3>"
   ]
  },
  {
   "cell_type": "code",
   "execution_count": 226,
   "id": "51b0932d",
   "metadata": {},
   "outputs": [
    {
     "name": "stdout",
     "output_type": "stream",
     "text": [
      "0\n"
     ]
    }
   ],
   "source": [
    "df_with_null_area.dropna(subset=['area'], inplace=True)\n",
    "print(df_with_null_area['area'].isna().sum())"
   ]
  },
  {
   "cell_type": "code",
   "execution_count": 227,
   "id": "ae655606",
   "metadata": {},
   "outputs": [
    {
     "name": "stdout",
     "output_type": "stream",
     "text": [
      "(68, 9)\n"
     ]
    },
    {
     "data": {
      "text/html": [
       "<div>\n",
       "<style scoped>\n",
       "    .dataframe tbody tr th:only-of-type {\n",
       "        vertical-align: middle;\n",
       "    }\n",
       "\n",
       "    .dataframe tbody tr th {\n",
       "        vertical-align: top;\n",
       "    }\n",
       "\n",
       "    .dataframe thead th {\n",
       "        text-align: right;\n",
       "    }\n",
       "</style>\n",
       "<table border=\"1\" class=\"dataframe\">\n",
       "  <thead>\n",
       "    <tr style=\"text-align: right;\">\n",
       "      <th></th>\n",
       "      <th>price</th>\n",
       "      <th>type</th>\n",
       "      <th>bedrooms</th>\n",
       "      <th>bathrooms</th>\n",
       "      <th>area</th>\n",
       "      <th>location</th>\n",
       "      <th>complete location</th>\n",
       "      <th>description</th>\n",
       "      <th>keywords</th>\n",
       "    </tr>\n",
       "  </thead>\n",
       "  <tbody>\n",
       "    <tr>\n",
       "      <th>7120</th>\n",
       "      <td>7.5 Crore</td>\n",
       "      <td>House</td>\n",
       "      <td>5.0</td>\n",
       "      <td>5.0</td>\n",
       "      <td>300.0</td>\n",
       "      <td>DHA Defence, Karachi, Sindh</td>\n",
       "      <td>DHA Phase 4, DHA Defence, Karachi, Sindh</td>\n",
       "      <td>It's a 300 Sq Yards independent bungalow in Ph...</td>\n",
       "      <td>Built in year: 2020,Parking Spaces: 3,Double G...</td>\n",
       "    </tr>\n",
       "    <tr>\n",
       "      <th>7307</th>\n",
       "      <td>1.45 Crore</td>\n",
       "      <td>House</td>\n",
       "      <td>3.0</td>\n",
       "      <td>3.0</td>\n",
       "      <td>125.0</td>\n",
       "      <td>Bahria Town Karachi, Karachi, Sindh</td>\n",
       "      <td>Bahria Town - Ali Block, Bahria Town - Precinc...</td>\n",
       "      <td>3 BEDS LUXURY 125 SQ YARDS VILLA FOR SALE LOCA...</td>\n",
       "      <td>Bedrooms: 3,Bathrooms: 3,Kitchens: 2</td>\n",
       "    </tr>\n",
       "    <tr>\n",
       "      <th>7309</th>\n",
       "      <td>1.5 Crore</td>\n",
       "      <td>House</td>\n",
       "      <td>3.0</td>\n",
       "      <td>3.0</td>\n",
       "      <td>235.0</td>\n",
       "      <td>Bahria Town Karachi, Karachi, Sindh</td>\n",
       "      <td>Bahria Town - Precinct 31, Bahria Town Karachi...</td>\n",
       "      <td>3 BEDS LUXURY 235 SQ YARDS VILLA FOR SALE LOCA...</td>\n",
       "      <td>Bedrooms: 3,Bathrooms: 3,Kitchens: 2</td>\n",
       "    </tr>\n",
       "    <tr>\n",
       "      <th>7310</th>\n",
       "      <td>1.45 Crore</td>\n",
       "      <td>House</td>\n",
       "      <td>3.0</td>\n",
       "      <td>3.0</td>\n",
       "      <td>152.0</td>\n",
       "      <td>Bahria Town Karachi, Karachi, Sindh</td>\n",
       "      <td>Bahria Town - Precinct 11-B, Bahria Town - Pre...</td>\n",
       "      <td>3 BEDS LUXURY 152SQ YARDS VILLA FOR SALE LOCAT...</td>\n",
       "      <td>Bedrooms: 3,Bathrooms: 3,Kitchens: 2</td>\n",
       "    </tr>\n",
       "    <tr>\n",
       "      <th>7311</th>\n",
       "      <td>1.55 Crore</td>\n",
       "      <td>House</td>\n",
       "      <td>3.0</td>\n",
       "      <td>3.0</td>\n",
       "      <td>235.0</td>\n",
       "      <td>Bahria Town Karachi, Karachi, Sindh</td>\n",
       "      <td>Bahria Town - Precinct 27, Bahria Town Karachi...</td>\n",
       "      <td>3 BEDS LUXURY 235 SQ YARDS VILLA FOR SALE LOCA...</td>\n",
       "      <td>Bedrooms: 3,Bathrooms: 3,Kitchens: 2</td>\n",
       "    </tr>\n",
       "  </tbody>\n",
       "</table>\n",
       "</div>"
      ],
      "text/plain": [
       "           price   type  bedrooms  bathrooms   area  \\\n",
       "7120   7.5 Crore  House       5.0        5.0  300.0   \n",
       "7307  1.45 Crore  House       3.0        3.0  125.0   \n",
       "7309   1.5 Crore  House       3.0        3.0  235.0   \n",
       "7310  1.45 Crore  House       3.0        3.0  152.0   \n",
       "7311  1.55 Crore  House       3.0        3.0  235.0   \n",
       "\n",
       "                                 location  \\\n",
       "7120          DHA Defence, Karachi, Sindh   \n",
       "7307  Bahria Town Karachi, Karachi, Sindh   \n",
       "7309  Bahria Town Karachi, Karachi, Sindh   \n",
       "7310  Bahria Town Karachi, Karachi, Sindh   \n",
       "7311  Bahria Town Karachi, Karachi, Sindh   \n",
       "\n",
       "                                      complete location  \\\n",
       "7120           DHA Phase 4, DHA Defence, Karachi, Sindh   \n",
       "7307  Bahria Town - Ali Block, Bahria Town - Precinc...   \n",
       "7309  Bahria Town - Precinct 31, Bahria Town Karachi...   \n",
       "7310  Bahria Town - Precinct 11-B, Bahria Town - Pre...   \n",
       "7311  Bahria Town - Precinct 27, Bahria Town Karachi...   \n",
       "\n",
       "                                            description  \\\n",
       "7120  It's a 300 Sq Yards independent bungalow in Ph...   \n",
       "7307  3 BEDS LUXURY 125 SQ YARDS VILLA FOR SALE LOCA...   \n",
       "7309  3 BEDS LUXURY 235 SQ YARDS VILLA FOR SALE LOCA...   \n",
       "7310  3 BEDS LUXURY 152SQ YARDS VILLA FOR SALE LOCAT...   \n",
       "7311  3 BEDS LUXURY 235 SQ YARDS VILLA FOR SALE LOCA...   \n",
       "\n",
       "                                               keywords  \n",
       "7120  Built in year: 2020,Parking Spaces: 3,Double G...  \n",
       "7307               Bedrooms: 3,Bathrooms: 3,Kitchens: 2  \n",
       "7309               Bedrooms: 3,Bathrooms: 3,Kitchens: 2  \n",
       "7310               Bedrooms: 3,Bathrooms: 3,Kitchens: 2  \n",
       "7311               Bedrooms: 3,Bathrooms: 3,Kitchens: 2  "
      ]
     },
     "execution_count": 227,
     "metadata": {},
     "output_type": "execute_result"
    }
   ],
   "source": [
    "print(df_with_null_area.shape)\n",
    "df_with_null_area.head()"
   ]
  },
  {
   "cell_type": "markdown",
   "id": "aea8fe08",
   "metadata": {},
   "source": [
    "<h3>we notice that df_with_null_area has area datatype as float and df has area datatype as object</h3>\n"
   ]
  },
  {
   "cell_type": "code",
   "execution_count": 228,
   "id": "9b5fb57a",
   "metadata": {},
   "outputs": [
    {
     "data": {
      "text/plain": [
       "price                 object\n",
       "type                  object\n",
       "bedrooms             float64\n",
       "bathrooms            float64\n",
       "area                 float64\n",
       "location              object\n",
       "complete location     object\n",
       "description           object\n",
       "keywords              object\n",
       "dtype: object"
      ]
     },
     "execution_count": 228,
     "metadata": {},
     "output_type": "execute_result"
    }
   ],
   "source": [
    "df_with_null_area.dtypes"
   ]
  },
  {
   "cell_type": "code",
   "execution_count": 229,
   "id": "26754d42",
   "metadata": {},
   "outputs": [
    {
     "data": {
      "text/plain": [
       "price                 object\n",
       "type                  object\n",
       "bedrooms             float64\n",
       "bathrooms            float64\n",
       "area                  object\n",
       "location              object\n",
       "complete location     object\n",
       "description           object\n",
       "keywords              object\n",
       "dtype: object"
      ]
     },
     "execution_count": 229,
     "metadata": {},
     "output_type": "execute_result"
    }
   ],
   "source": [
    "df.dtypes"
   ]
  },
  {
   "cell_type": "markdown",
   "id": "3e3db205",
   "metadata": {},
   "source": [
    "<h4>converting df area column into int</h4>"
   ]
  },
  {
   "cell_type": "code",
   "execution_count": 230,
   "id": "1e9e826f",
   "metadata": {},
   "outputs": [
    {
     "name": "stderr",
     "output_type": "stream",
     "text": [
      "C:\\Users\\Iqbal Siddiqui\\AppData\\Local\\Temp\\ipykernel_11076\\2746772528.py:1: FutureWarning: The default value of regex will change from True to False in a future version.\n",
      "  df['area'] = df['area'].str.replace(' Sq. Yd.', '')\n"
     ]
    }
   ],
   "source": [
    "df['area'] = df['area'].str.replace(' Sq. Yd.', '')"
   ]
  },
  {
   "cell_type": "code",
   "execution_count": 231,
   "id": "f25f225f",
   "metadata": {},
   "outputs": [],
   "source": [
    "df['area'] = df['area'].str.replace(',', '')\n",
    "\n",
    "df['area'] = df['area'].astype(int)\n"
   ]
  },
  {
   "cell_type": "markdown",
   "id": "053fae53",
   "metadata": {},
   "source": [
    "<h4>converting df_with_null_area 'area' column into int</h4>\n"
   ]
  },
  {
   "cell_type": "code",
   "execution_count": 232,
   "id": "64fc7b5a",
   "metadata": {},
   "outputs": [],
   "source": [
    "df_with_null_area['area'] = df_with_null_area['area'].astype(int)"
   ]
  },
  {
   "cell_type": "markdown",
   "id": "a2c26439",
   "metadata": {},
   "source": [
    "<h3>merging the original dataframe and data_with_null_area dataframe</h3>"
   ]
  },
  {
   "cell_type": "code",
   "execution_count": 233,
   "id": "725fc064",
   "metadata": {},
   "outputs": [
    {
     "name": "stdout",
     "output_type": "stream",
     "text": [
      "(7341, 9)\n"
     ]
    },
    {
     "data": {
      "text/html": [
       "<div>\n",
       "<style scoped>\n",
       "    .dataframe tbody tr th:only-of-type {\n",
       "        vertical-align: middle;\n",
       "    }\n",
       "\n",
       "    .dataframe tbody tr th {\n",
       "        vertical-align: top;\n",
       "    }\n",
       "\n",
       "    .dataframe thead th {\n",
       "        text-align: right;\n",
       "    }\n",
       "</style>\n",
       "<table border=\"1\" class=\"dataframe\">\n",
       "  <thead>\n",
       "    <tr style=\"text-align: right;\">\n",
       "      <th></th>\n",
       "      <th>price</th>\n",
       "      <th>type</th>\n",
       "      <th>bedrooms</th>\n",
       "      <th>bathrooms</th>\n",
       "      <th>area</th>\n",
       "      <th>location</th>\n",
       "      <th>complete location</th>\n",
       "      <th>description</th>\n",
       "      <th>keywords</th>\n",
       "    </tr>\n",
       "  </thead>\n",
       "  <tbody>\n",
       "    <tr>\n",
       "      <th>0</th>\n",
       "      <td>11.5 Crore</td>\n",
       "      <td>House</td>\n",
       "      <td>5.0</td>\n",
       "      <td>6.0</td>\n",
       "      <td>600</td>\n",
       "      <td>DHA Defence, Karachi, Sindh</td>\n",
       "      <td>DHA Phase 6, DHA Defence, Karachi, Sindh</td>\n",
       "      <td>Chance Deal 600 Yard Bungalow For Sale</td>\n",
       "      <td>Built in year: 1,Parking Spaces: 5,Flooring,Ot...</td>\n",
       "    </tr>\n",
       "    <tr>\n",
       "      <th>1</th>\n",
       "      <td>4 Crore</td>\n",
       "      <td>Flat</td>\n",
       "      <td>3.0</td>\n",
       "      <td>3.0</td>\n",
       "      <td>200</td>\n",
       "      <td>Clifton, Karachi, Sindh</td>\n",
       "      <td>Clifton - Block 9, Clifton, Karachi, Sindh</td>\n",
       "      <td>Apartment for sale</td>\n",
       "      <td>Flooring,Electricity Backup,Broadband Internet...</td>\n",
       "    </tr>\n",
       "    <tr>\n",
       "      <th>2</th>\n",
       "      <td>9 Crore</td>\n",
       "      <td>House</td>\n",
       "      <td>7.0</td>\n",
       "      <td>6.0</td>\n",
       "      <td>500</td>\n",
       "      <td>DHA Defence, Karachi, Sindh</td>\n",
       "      <td>DHA Phase 7, DHA Defence, Karachi, Sindh</td>\n",
       "      <td>500 Square Yards Bungalow Available For Sale I...</td>\n",
       "      <td>Flooring,Electricity Backup,Bedrooms: 7,Bathro...</td>\n",
       "    </tr>\n",
       "    <tr>\n",
       "      <th>3</th>\n",
       "      <td>6 Crore</td>\n",
       "      <td>Flat</td>\n",
       "      <td>3.0</td>\n",
       "      <td>4.0</td>\n",
       "      <td>200</td>\n",
       "      <td>Clifton, Karachi, Sindh</td>\n",
       "      <td>Clifton - Block 8, Clifton, Karachi, Sindh</td>\n",
       "      <td>Clifton Block 8 Near 3 Talwar</td>\n",
       "      <td>Built in year: 2022,Parking Spaces: 1,Flooring...</td>\n",
       "    </tr>\n",
       "    <tr>\n",
       "      <th>4</th>\n",
       "      <td>3.7 Crore</td>\n",
       "      <td>Flat</td>\n",
       "      <td>3.0</td>\n",
       "      <td>3.0</td>\n",
       "      <td>244</td>\n",
       "      <td>Clifton, Karachi, Sindh</td>\n",
       "      <td>Clifton, Karachi, Sindh</td>\n",
       "      <td>flat for sale Clifton Platinium residency 3 be...</td>\n",
       "      <td>Flooring,Floor: 3,Elevators: 1,Bedrooms: 3,Bat...</td>\n",
       "    </tr>\n",
       "  </tbody>\n",
       "</table>\n",
       "</div>"
      ],
      "text/plain": [
       "        price   type  bedrooms  bathrooms  area                     location  \\\n",
       "0  11.5 Crore  House       5.0        6.0   600  DHA Defence, Karachi, Sindh   \n",
       "1     4 Crore   Flat       3.0        3.0   200      Clifton, Karachi, Sindh   \n",
       "2     9 Crore  House       7.0        6.0   500  DHA Defence, Karachi, Sindh   \n",
       "3     6 Crore   Flat       3.0        4.0   200      Clifton, Karachi, Sindh   \n",
       "4   3.7 Crore   Flat       3.0        3.0   244      Clifton, Karachi, Sindh   \n",
       "\n",
       "                            complete location  \\\n",
       "0    DHA Phase 6, DHA Defence, Karachi, Sindh   \n",
       "1  Clifton - Block 9, Clifton, Karachi, Sindh   \n",
       "2    DHA Phase 7, DHA Defence, Karachi, Sindh   \n",
       "3  Clifton - Block 8, Clifton, Karachi, Sindh   \n",
       "4                     Clifton, Karachi, Sindh   \n",
       "\n",
       "                                         description  \\\n",
       "0             Chance Deal 600 Yard Bungalow For Sale   \n",
       "1                                 Apartment for sale   \n",
       "2  500 Square Yards Bungalow Available For Sale I...   \n",
       "3                      Clifton Block 8 Near 3 Talwar   \n",
       "4  flat for sale Clifton Platinium residency 3 be...   \n",
       "\n",
       "                                            keywords  \n",
       "0  Built in year: 1,Parking Spaces: 5,Flooring,Ot...  \n",
       "1  Flooring,Electricity Backup,Broadband Internet...  \n",
       "2  Flooring,Electricity Backup,Bedrooms: 7,Bathro...  \n",
       "3  Built in year: 2022,Parking Spaces: 1,Flooring...  \n",
       "4  Flooring,Floor: 3,Elevators: 1,Bedrooms: 3,Bat...  "
      ]
     },
     "execution_count": 233,
     "metadata": {},
     "output_type": "execute_result"
    }
   ],
   "source": [
    "df = pd.concat([df, df_with_null_area], ignore_index=True)\n",
    "print(df.shape)\n",
    "df.head()"
   ]
  },
  {
   "cell_type": "markdown",
   "id": "e490912f",
   "metadata": {},
   "source": [
    "<h3>we will be using location too while creating the application but it has missing values so we will use the information provided in \"complete location to fill the location column\"</h3>"
   ]
  },
  {
   "cell_type": "code",
   "execution_count": 234,
   "id": "69b91af4",
   "metadata": {},
   "outputs": [
    {
     "data": {
      "text/plain": [
       "355"
      ]
     },
     "execution_count": 234,
     "metadata": {},
     "output_type": "execute_result"
    }
   ],
   "source": [
    "df['location'].isna().sum()"
   ]
  },
  {
   "cell_type": "code",
   "execution_count": 235,
   "id": "be109003",
   "metadata": {},
   "outputs": [
    {
     "data": {
      "text/html": [
       "<div>\n",
       "<style scoped>\n",
       "    .dataframe tbody tr th:only-of-type {\n",
       "        vertical-align: middle;\n",
       "    }\n",
       "\n",
       "    .dataframe tbody tr th {\n",
       "        vertical-align: top;\n",
       "    }\n",
       "\n",
       "    .dataframe thead th {\n",
       "        text-align: right;\n",
       "    }\n",
       "</style>\n",
       "<table border=\"1\" class=\"dataframe\">\n",
       "  <thead>\n",
       "    <tr style=\"text-align: right;\">\n",
       "      <th></th>\n",
       "      <th>price</th>\n",
       "      <th>type</th>\n",
       "      <th>bedrooms</th>\n",
       "      <th>bathrooms</th>\n",
       "      <th>area</th>\n",
       "      <th>location</th>\n",
       "      <th>complete location</th>\n",
       "      <th>description</th>\n",
       "      <th>keywords</th>\n",
       "    </tr>\n",
       "  </thead>\n",
       "  <tbody>\n",
       "    <tr>\n",
       "      <th>0</th>\n",
       "      <td>11.5 Crore</td>\n",
       "      <td>House</td>\n",
       "      <td>5.0</td>\n",
       "      <td>6.0</td>\n",
       "      <td>600</td>\n",
       "      <td>DHA</td>\n",
       "      <td>DHA Phase 6, DHA Defence, Karachi, Sindh</td>\n",
       "      <td>Chance Deal 600 Yard Bungalow For Sale</td>\n",
       "      <td>Built in year: 1,Parking Spaces: 5,Flooring,Ot...</td>\n",
       "    </tr>\n",
       "    <tr>\n",
       "      <th>1</th>\n",
       "      <td>4 Crore</td>\n",
       "      <td>Flat</td>\n",
       "      <td>3.0</td>\n",
       "      <td>3.0</td>\n",
       "      <td>200</td>\n",
       "      <td>Clifton</td>\n",
       "      <td>Clifton - Block 9, Clifton, Karachi, Sindh</td>\n",
       "      <td>Apartment for sale</td>\n",
       "      <td>Flooring,Electricity Backup,Broadband Internet...</td>\n",
       "    </tr>\n",
       "    <tr>\n",
       "      <th>2</th>\n",
       "      <td>9 Crore</td>\n",
       "      <td>House</td>\n",
       "      <td>7.0</td>\n",
       "      <td>6.0</td>\n",
       "      <td>500</td>\n",
       "      <td>DHA</td>\n",
       "      <td>DHA Phase 7, DHA Defence, Karachi, Sindh</td>\n",
       "      <td>500 Square Yards Bungalow Available For Sale I...</td>\n",
       "      <td>Flooring,Electricity Backup,Bedrooms: 7,Bathro...</td>\n",
       "    </tr>\n",
       "    <tr>\n",
       "      <th>3</th>\n",
       "      <td>6 Crore</td>\n",
       "      <td>Flat</td>\n",
       "      <td>3.0</td>\n",
       "      <td>4.0</td>\n",
       "      <td>200</td>\n",
       "      <td>Clifton</td>\n",
       "      <td>Clifton - Block 8, Clifton, Karachi, Sindh</td>\n",
       "      <td>Clifton Block 8 Near 3 Talwar</td>\n",
       "      <td>Built in year: 2022,Parking Spaces: 1,Flooring...</td>\n",
       "    </tr>\n",
       "    <tr>\n",
       "      <th>4</th>\n",
       "      <td>3.7 Crore</td>\n",
       "      <td>Flat</td>\n",
       "      <td>3.0</td>\n",
       "      <td>3.0</td>\n",
       "      <td>244</td>\n",
       "      <td>Clifton</td>\n",
       "      <td>Clifton, Karachi, Sindh</td>\n",
       "      <td>flat for sale Clifton Platinium residency 3 be...</td>\n",
       "      <td>Flooring,Floor: 3,Elevators: 1,Bedrooms: 3,Bat...</td>\n",
       "    </tr>\n",
       "  </tbody>\n",
       "</table>\n",
       "</div>"
      ],
      "text/plain": [
       "        price   type  bedrooms  bathrooms  area location  \\\n",
       "0  11.5 Crore  House       5.0        6.0   600      DHA   \n",
       "1     4 Crore   Flat       3.0        3.0   200  Clifton   \n",
       "2     9 Crore  House       7.0        6.0   500      DHA   \n",
       "3     6 Crore   Flat       3.0        4.0   200  Clifton   \n",
       "4   3.7 Crore   Flat       3.0        3.0   244  Clifton   \n",
       "\n",
       "                            complete location  \\\n",
       "0    DHA Phase 6, DHA Defence, Karachi, Sindh   \n",
       "1  Clifton - Block 9, Clifton, Karachi, Sindh   \n",
       "2    DHA Phase 7, DHA Defence, Karachi, Sindh   \n",
       "3  Clifton - Block 8, Clifton, Karachi, Sindh   \n",
       "4                     Clifton, Karachi, Sindh   \n",
       "\n",
       "                                         description  \\\n",
       "0             Chance Deal 600 Yard Bungalow For Sale   \n",
       "1                                 Apartment for sale   \n",
       "2  500 Square Yards Bungalow Available For Sale I...   \n",
       "3                      Clifton Block 8 Near 3 Talwar   \n",
       "4  flat for sale Clifton Platinium residency 3 be...   \n",
       "\n",
       "                                            keywords  \n",
       "0  Built in year: 1,Parking Spaces: 5,Flooring,Ot...  \n",
       "1  Flooring,Electricity Backup,Broadband Internet...  \n",
       "2  Flooring,Electricity Backup,Bedrooms: 7,Bathro...  \n",
       "3  Built in year: 2022,Parking Spaces: 1,Flooring...  \n",
       "4  Flooring,Floor: 3,Elevators: 1,Bedrooms: 3,Bat...  "
      ]
     },
     "execution_count": 235,
     "metadata": {},
     "output_type": "execute_result"
    }
   ],
   "source": [
    "df.loc[df['complete location'].str.contains('dha', case=False, na=False), 'location'] = 'DHA'\n",
    "\n",
    "# Replace the value of \"location\" with 'bahria town' where \"complete location\" contains 'bahria town'\n",
    "df.loc[df['complete location'].str.contains('bahria town', case=False, na=False), 'location'] = 'Bahria Town'\n",
    "\n",
    "# Replace the value of \"location\" with 'clifton' where \"complete location\" contains 'clifton'\n",
    "df.loc[df['complete location'].str.contains('clifton', case=False, na=False), 'location'] = 'Clifton'\n",
    "\n",
    "df.head()"
   ]
  },
  {
   "cell_type": "code",
   "execution_count": 236,
   "id": "3e12af97",
   "metadata": {},
   "outputs": [
    {
     "name": "stdout",
     "output_type": "stream",
     "text": [
      "0\n",
      "(7341, 9)\n"
     ]
    }
   ],
   "source": [
    "print(df['location'].isna().sum())\n",
    "print(df.shape)"
   ]
  },
  {
   "cell_type": "markdown",
   "id": "02fca513",
   "metadata": {},
   "source": [
    "<h3>since we dont need the 'keywords', 'description' and 'complete location' columns so we will remove them</h3>"
   ]
  },
  {
   "cell_type": "code",
   "execution_count": 237,
   "id": "62d9d903",
   "metadata": {},
   "outputs": [
    {
     "data": {
      "text/html": [
       "<div>\n",
       "<style scoped>\n",
       "    .dataframe tbody tr th:only-of-type {\n",
       "        vertical-align: middle;\n",
       "    }\n",
       "\n",
       "    .dataframe tbody tr th {\n",
       "        vertical-align: top;\n",
       "    }\n",
       "\n",
       "    .dataframe thead th {\n",
       "        text-align: right;\n",
       "    }\n",
       "</style>\n",
       "<table border=\"1\" class=\"dataframe\">\n",
       "  <thead>\n",
       "    <tr style=\"text-align: right;\">\n",
       "      <th></th>\n",
       "      <th>price</th>\n",
       "      <th>type</th>\n",
       "      <th>bedrooms</th>\n",
       "      <th>bathrooms</th>\n",
       "      <th>area</th>\n",
       "      <th>location</th>\n",
       "    </tr>\n",
       "  </thead>\n",
       "  <tbody>\n",
       "    <tr>\n",
       "      <th>0</th>\n",
       "      <td>11.5 Crore</td>\n",
       "      <td>House</td>\n",
       "      <td>5.0</td>\n",
       "      <td>6.0</td>\n",
       "      <td>600</td>\n",
       "      <td>DHA</td>\n",
       "    </tr>\n",
       "    <tr>\n",
       "      <th>1</th>\n",
       "      <td>4 Crore</td>\n",
       "      <td>Flat</td>\n",
       "      <td>3.0</td>\n",
       "      <td>3.0</td>\n",
       "      <td>200</td>\n",
       "      <td>Clifton</td>\n",
       "    </tr>\n",
       "    <tr>\n",
       "      <th>2</th>\n",
       "      <td>9 Crore</td>\n",
       "      <td>House</td>\n",
       "      <td>7.0</td>\n",
       "      <td>6.0</td>\n",
       "      <td>500</td>\n",
       "      <td>DHA</td>\n",
       "    </tr>\n",
       "    <tr>\n",
       "      <th>3</th>\n",
       "      <td>6 Crore</td>\n",
       "      <td>Flat</td>\n",
       "      <td>3.0</td>\n",
       "      <td>4.0</td>\n",
       "      <td>200</td>\n",
       "      <td>Clifton</td>\n",
       "    </tr>\n",
       "    <tr>\n",
       "      <th>4</th>\n",
       "      <td>3.7 Crore</td>\n",
       "      <td>Flat</td>\n",
       "      <td>3.0</td>\n",
       "      <td>3.0</td>\n",
       "      <td>244</td>\n",
       "      <td>Clifton</td>\n",
       "    </tr>\n",
       "  </tbody>\n",
       "</table>\n",
       "</div>"
      ],
      "text/plain": [
       "        price   type  bedrooms  bathrooms  area location\n",
       "0  11.5 Crore  House       5.0        6.0   600      DHA\n",
       "1     4 Crore   Flat       3.0        3.0   200  Clifton\n",
       "2     9 Crore  House       7.0        6.0   500      DHA\n",
       "3     6 Crore   Flat       3.0        4.0   200  Clifton\n",
       "4   3.7 Crore   Flat       3.0        3.0   244  Clifton"
      ]
     },
     "execution_count": 237,
     "metadata": {},
     "output_type": "execute_result"
    }
   ],
   "source": [
    "df = df.drop(['complete location','description','keywords'],axis=1)\n",
    "df.head()"
   ]
  },
  {
   "cell_type": "code",
   "execution_count": 238,
   "id": "b9b99c45",
   "metadata": {},
   "outputs": [
    {
     "data": {
      "text/plain": [
       "(7341, 6)"
      ]
     },
     "execution_count": 238,
     "metadata": {},
     "output_type": "execute_result"
    }
   ],
   "source": [
    "df.shape"
   ]
  },
  {
   "cell_type": "code",
   "execution_count": 239,
   "id": "fa3f0c82",
   "metadata": {},
   "outputs": [
    {
     "data": {
      "text/plain": [
       "price         object\n",
       "type          object\n",
       "bedrooms     float64\n",
       "bathrooms    float64\n",
       "area           int32\n",
       "location      object\n",
       "dtype: object"
      ]
     },
     "execution_count": 239,
     "metadata": {},
     "output_type": "execute_result"
    }
   ],
   "source": [
    "df.dtypes"
   ]
  },
  {
   "cell_type": "markdown",
   "id": "98ddc298",
   "metadata": {},
   "source": [
    "<h3>converting bedrooms, bathrooms and price datatype as int and float</h3>"
   ]
  },
  {
   "cell_type": "code",
   "execution_count": 240,
   "id": "f62dc928",
   "metadata": {},
   "outputs": [],
   "source": [
    "df[['bedrooms','bathrooms']] = df[['bedrooms','bathrooms']].astype(int)"
   ]
  },
  {
   "cell_type": "code",
   "execution_count": 241,
   "id": "e523d229",
   "metadata": {},
   "outputs": [
    {
     "data": {
      "text/plain": [
       "price        object\n",
       "type         object\n",
       "bedrooms      int32\n",
       "bathrooms     int32\n",
       "area          int32\n",
       "location     object\n",
       "dtype: object"
      ]
     },
     "execution_count": 241,
     "metadata": {},
     "output_type": "execute_result"
    }
   ],
   "source": [
    "df.dtypes"
   ]
  },
  {
   "cell_type": "code",
   "execution_count": 242,
   "id": "16990b44",
   "metadata": {},
   "outputs": [],
   "source": [
    "df['price'] = df['price'].str.replace(' Crore', '')"
   ]
  },
  {
   "cell_type": "markdown",
   "id": "918dedfc",
   "metadata": {},
   "source": [
    "<h4>converting values stored as lakh in \"price\" to \"crore\"</h3>"
   ]
  },
  {
   "cell_type": "code",
   "execution_count": 243,
   "id": "4aceb8d6",
   "metadata": {},
   "outputs": [],
   "source": [
    "df.loc[df['price'].astype(str).str.contains('lakh', case=False), 'price'] = df.loc[df['price'].astype(str).str.contains('lakh', case=False), 'price'].str.replace(r'\\D+', '', regex=True).astype(float) / 100\n"
   ]
  },
  {
   "cell_type": "code",
   "execution_count": 244,
   "id": "000d232a",
   "metadata": {},
   "outputs": [
    {
     "data": {
      "text/html": [
       "<div>\n",
       "<style scoped>\n",
       "    .dataframe tbody tr th:only-of-type {\n",
       "        vertical-align: middle;\n",
       "    }\n",
       "\n",
       "    .dataframe tbody tr th {\n",
       "        vertical-align: top;\n",
       "    }\n",
       "\n",
       "    .dataframe thead th {\n",
       "        text-align: right;\n",
       "    }\n",
       "</style>\n",
       "<table border=\"1\" class=\"dataframe\">\n",
       "  <thead>\n",
       "    <tr style=\"text-align: right;\">\n",
       "      <th></th>\n",
       "      <th>price</th>\n",
       "      <th>type</th>\n",
       "      <th>bedrooms</th>\n",
       "      <th>bathrooms</th>\n",
       "      <th>area</th>\n",
       "      <th>location</th>\n",
       "    </tr>\n",
       "  </thead>\n",
       "  <tbody>\n",
       "    <tr>\n",
       "      <th>0</th>\n",
       "      <td>11.5</td>\n",
       "      <td>House</td>\n",
       "      <td>5</td>\n",
       "      <td>6</td>\n",
       "      <td>600</td>\n",
       "      <td>DHA</td>\n",
       "    </tr>\n",
       "    <tr>\n",
       "      <th>1</th>\n",
       "      <td>4</td>\n",
       "      <td>Flat</td>\n",
       "      <td>3</td>\n",
       "      <td>3</td>\n",
       "      <td>200</td>\n",
       "      <td>Clifton</td>\n",
       "    </tr>\n",
       "    <tr>\n",
       "      <th>2</th>\n",
       "      <td>9</td>\n",
       "      <td>House</td>\n",
       "      <td>7</td>\n",
       "      <td>6</td>\n",
       "      <td>500</td>\n",
       "      <td>DHA</td>\n",
       "    </tr>\n",
       "    <tr>\n",
       "      <th>3</th>\n",
       "      <td>6</td>\n",
       "      <td>Flat</td>\n",
       "      <td>3</td>\n",
       "      <td>4</td>\n",
       "      <td>200</td>\n",
       "      <td>Clifton</td>\n",
       "    </tr>\n",
       "    <tr>\n",
       "      <th>4</th>\n",
       "      <td>3.7</td>\n",
       "      <td>Flat</td>\n",
       "      <td>3</td>\n",
       "      <td>3</td>\n",
       "      <td>244</td>\n",
       "      <td>Clifton</td>\n",
       "    </tr>\n",
       "  </tbody>\n",
       "</table>\n",
       "</div>"
      ],
      "text/plain": [
       "  price   type  bedrooms  bathrooms  area location\n",
       "0  11.5  House         5          6   600      DHA\n",
       "1     4   Flat         3          3   200  Clifton\n",
       "2     9  House         7          6   500      DHA\n",
       "3     6   Flat         3          4   200  Clifton\n",
       "4   3.7   Flat         3          3   244  Clifton"
      ]
     },
     "execution_count": 244,
     "metadata": {},
     "output_type": "execute_result"
    }
   ],
   "source": [
    "df.head()"
   ]
  },
  {
   "cell_type": "code",
   "execution_count": 245,
   "id": "c88210ed",
   "metadata": {},
   "outputs": [
    {
     "name": "stdout",
     "output_type": "stream",
     "text": [
      "price        float64\n",
      "type          object\n",
      "bedrooms       int32\n",
      "bathrooms      int32\n",
      "area           int32\n",
      "location      object\n",
      "dtype: object\n"
     ]
    },
    {
     "data": {
      "text/html": [
       "<div>\n",
       "<style scoped>\n",
       "    .dataframe tbody tr th:only-of-type {\n",
       "        vertical-align: middle;\n",
       "    }\n",
       "\n",
       "    .dataframe tbody tr th {\n",
       "        vertical-align: top;\n",
       "    }\n",
       "\n",
       "    .dataframe thead th {\n",
       "        text-align: right;\n",
       "    }\n",
       "</style>\n",
       "<table border=\"1\" class=\"dataframe\">\n",
       "  <thead>\n",
       "    <tr style=\"text-align: right;\">\n",
       "      <th></th>\n",
       "      <th>price</th>\n",
       "      <th>type</th>\n",
       "      <th>bedrooms</th>\n",
       "      <th>bathrooms</th>\n",
       "      <th>area</th>\n",
       "      <th>location</th>\n",
       "    </tr>\n",
       "  </thead>\n",
       "  <tbody>\n",
       "    <tr>\n",
       "      <th>0</th>\n",
       "      <td>11.5</td>\n",
       "      <td>House</td>\n",
       "      <td>5</td>\n",
       "      <td>6</td>\n",
       "      <td>600</td>\n",
       "      <td>DHA</td>\n",
       "    </tr>\n",
       "    <tr>\n",
       "      <th>1</th>\n",
       "      <td>4.0</td>\n",
       "      <td>Flat</td>\n",
       "      <td>3</td>\n",
       "      <td>3</td>\n",
       "      <td>200</td>\n",
       "      <td>Clifton</td>\n",
       "    </tr>\n",
       "    <tr>\n",
       "      <th>2</th>\n",
       "      <td>9.0</td>\n",
       "      <td>House</td>\n",
       "      <td>7</td>\n",
       "      <td>6</td>\n",
       "      <td>500</td>\n",
       "      <td>DHA</td>\n",
       "    </tr>\n",
       "    <tr>\n",
       "      <th>3</th>\n",
       "      <td>6.0</td>\n",
       "      <td>Flat</td>\n",
       "      <td>3</td>\n",
       "      <td>4</td>\n",
       "      <td>200</td>\n",
       "      <td>Clifton</td>\n",
       "    </tr>\n",
       "    <tr>\n",
       "      <th>4</th>\n",
       "      <td>3.7</td>\n",
       "      <td>Flat</td>\n",
       "      <td>3</td>\n",
       "      <td>3</td>\n",
       "      <td>244</td>\n",
       "      <td>Clifton</td>\n",
       "    </tr>\n",
       "  </tbody>\n",
       "</table>\n",
       "</div>"
      ],
      "text/plain": [
       "   price   type  bedrooms  bathrooms  area location\n",
       "0   11.5  House         5          6   600      DHA\n",
       "1    4.0   Flat         3          3   200  Clifton\n",
       "2    9.0  House         7          6   500      DHA\n",
       "3    6.0   Flat         3          4   200  Clifton\n",
       "4    3.7   Flat         3          3   244  Clifton"
      ]
     },
     "execution_count": 245,
     "metadata": {},
     "output_type": "execute_result"
    }
   ],
   "source": [
    "df['price'] = df['price'].astype(float)\n",
    "print(df.dtypes)\n",
    "df.head()"
   ]
  },
  {
   "cell_type": "markdown",
   "id": "396e3922",
   "metadata": {},
   "source": [
    "<h3>converting categorical value to numerical value</h3>"
   ]
  },
  {
   "cell_type": "code",
   "execution_count": 246,
   "id": "568748cb",
   "metadata": {},
   "outputs": [
    {
     "data": {
      "text/html": [
       "<div>\n",
       "<style scoped>\n",
       "    .dataframe tbody tr th:only-of-type {\n",
       "        vertical-align: middle;\n",
       "    }\n",
       "\n",
       "    .dataframe tbody tr th {\n",
       "        vertical-align: top;\n",
       "    }\n",
       "\n",
       "    .dataframe thead th {\n",
       "        text-align: right;\n",
       "    }\n",
       "</style>\n",
       "<table border=\"1\" class=\"dataframe\">\n",
       "  <thead>\n",
       "    <tr style=\"text-align: right;\">\n",
       "      <th></th>\n",
       "      <th>price</th>\n",
       "      <th>type</th>\n",
       "      <th>bedrooms</th>\n",
       "      <th>bathrooms</th>\n",
       "      <th>area</th>\n",
       "      <th>location</th>\n",
       "      <th>Flat</th>\n",
       "      <th>House</th>\n",
       "    </tr>\n",
       "  </thead>\n",
       "  <tbody>\n",
       "    <tr>\n",
       "      <th>0</th>\n",
       "      <td>11.5</td>\n",
       "      <td>House</td>\n",
       "      <td>5</td>\n",
       "      <td>6</td>\n",
       "      <td>600</td>\n",
       "      <td>DHA</td>\n",
       "      <td>0</td>\n",
       "      <td>1</td>\n",
       "    </tr>\n",
       "    <tr>\n",
       "      <th>1</th>\n",
       "      <td>4.0</td>\n",
       "      <td>Flat</td>\n",
       "      <td>3</td>\n",
       "      <td>3</td>\n",
       "      <td>200</td>\n",
       "      <td>Clifton</td>\n",
       "      <td>1</td>\n",
       "      <td>0</td>\n",
       "    </tr>\n",
       "    <tr>\n",
       "      <th>2</th>\n",
       "      <td>9.0</td>\n",
       "      <td>House</td>\n",
       "      <td>7</td>\n",
       "      <td>6</td>\n",
       "      <td>500</td>\n",
       "      <td>DHA</td>\n",
       "      <td>0</td>\n",
       "      <td>1</td>\n",
       "    </tr>\n",
       "    <tr>\n",
       "      <th>3</th>\n",
       "      <td>6.0</td>\n",
       "      <td>Flat</td>\n",
       "      <td>3</td>\n",
       "      <td>4</td>\n",
       "      <td>200</td>\n",
       "      <td>Clifton</td>\n",
       "      <td>1</td>\n",
       "      <td>0</td>\n",
       "    </tr>\n",
       "    <tr>\n",
       "      <th>4</th>\n",
       "      <td>3.7</td>\n",
       "      <td>Flat</td>\n",
       "      <td>3</td>\n",
       "      <td>3</td>\n",
       "      <td>244</td>\n",
       "      <td>Clifton</td>\n",
       "      <td>1</td>\n",
       "      <td>0</td>\n",
       "    </tr>\n",
       "  </tbody>\n",
       "</table>\n",
       "</div>"
      ],
      "text/plain": [
       "   price   type  bedrooms  bathrooms  area location  Flat  House\n",
       "0   11.5  House         5          6   600      DHA     0      1\n",
       "1    4.0   Flat         3          3   200  Clifton     1      0\n",
       "2    9.0  House         7          6   500      DHA     0      1\n",
       "3    6.0   Flat         3          4   200  Clifton     1      0\n",
       "4    3.7   Flat         3          3   244  Clifton     1      0"
      ]
     },
     "execution_count": 246,
     "metadata": {},
     "output_type": "execute_result"
    }
   ],
   "source": [
    "df_type = pd.get_dummies(df['type'])\n",
    "\n",
    "df = pd.concat([df, df_type], axis=1)\n",
    "df.head()"
   ]
  },
  {
   "cell_type": "code",
   "execution_count": 247,
   "id": "f3cafd7a",
   "metadata": {},
   "outputs": [
    {
     "data": {
      "text/plain": [
       "99.0"
      ]
     },
     "execution_count": 247,
     "metadata": {},
     "output_type": "execute_result"
    }
   ],
   "source": [
    "df['price'].max()"
   ]
  },
  {
   "cell_type": "code",
   "execution_count": 248,
   "id": "2a5af766",
   "metadata": {},
   "outputs": [
    {
     "data": {
      "text/html": [
       "<div>\n",
       "<style scoped>\n",
       "    .dataframe tbody tr th:only-of-type {\n",
       "        vertical-align: middle;\n",
       "    }\n",
       "\n",
       "    .dataframe tbody tr th {\n",
       "        vertical-align: top;\n",
       "    }\n",
       "\n",
       "    .dataframe thead th {\n",
       "        text-align: right;\n",
       "    }\n",
       "</style>\n",
       "<table border=\"1\" class=\"dataframe\">\n",
       "  <thead>\n",
       "    <tr style=\"text-align: right;\">\n",
       "      <th></th>\n",
       "      <th>price</th>\n",
       "      <th>type</th>\n",
       "      <th>bedrooms</th>\n",
       "      <th>bathrooms</th>\n",
       "      <th>area</th>\n",
       "      <th>location</th>\n",
       "      <th>Flat</th>\n",
       "      <th>House</th>\n",
       "      <th>Bahria Town</th>\n",
       "      <th>Clifton</th>\n",
       "      <th>DHA</th>\n",
       "    </tr>\n",
       "  </thead>\n",
       "  <tbody>\n",
       "    <tr>\n",
       "      <th>0</th>\n",
       "      <td>11.5</td>\n",
       "      <td>House</td>\n",
       "      <td>5</td>\n",
       "      <td>6</td>\n",
       "      <td>600</td>\n",
       "      <td>DHA</td>\n",
       "      <td>0</td>\n",
       "      <td>1</td>\n",
       "      <td>0</td>\n",
       "      <td>0</td>\n",
       "      <td>1</td>\n",
       "    </tr>\n",
       "    <tr>\n",
       "      <th>1</th>\n",
       "      <td>4.0</td>\n",
       "      <td>Flat</td>\n",
       "      <td>3</td>\n",
       "      <td>3</td>\n",
       "      <td>200</td>\n",
       "      <td>Clifton</td>\n",
       "      <td>1</td>\n",
       "      <td>0</td>\n",
       "      <td>0</td>\n",
       "      <td>1</td>\n",
       "      <td>0</td>\n",
       "    </tr>\n",
       "    <tr>\n",
       "      <th>2</th>\n",
       "      <td>9.0</td>\n",
       "      <td>House</td>\n",
       "      <td>7</td>\n",
       "      <td>6</td>\n",
       "      <td>500</td>\n",
       "      <td>DHA</td>\n",
       "      <td>0</td>\n",
       "      <td>1</td>\n",
       "      <td>0</td>\n",
       "      <td>0</td>\n",
       "      <td>1</td>\n",
       "    </tr>\n",
       "    <tr>\n",
       "      <th>3</th>\n",
       "      <td>6.0</td>\n",
       "      <td>Flat</td>\n",
       "      <td>3</td>\n",
       "      <td>4</td>\n",
       "      <td>200</td>\n",
       "      <td>Clifton</td>\n",
       "      <td>1</td>\n",
       "      <td>0</td>\n",
       "      <td>0</td>\n",
       "      <td>1</td>\n",
       "      <td>0</td>\n",
       "    </tr>\n",
       "    <tr>\n",
       "      <th>4</th>\n",
       "      <td>3.7</td>\n",
       "      <td>Flat</td>\n",
       "      <td>3</td>\n",
       "      <td>3</td>\n",
       "      <td>244</td>\n",
       "      <td>Clifton</td>\n",
       "      <td>1</td>\n",
       "      <td>0</td>\n",
       "      <td>0</td>\n",
       "      <td>1</td>\n",
       "      <td>0</td>\n",
       "    </tr>\n",
       "  </tbody>\n",
       "</table>\n",
       "</div>"
      ],
      "text/plain": [
       "   price   type  bedrooms  bathrooms  area location  Flat  House  Bahria Town  \\\n",
       "0   11.5  House         5          6   600      DHA     0      1            0   \n",
       "1    4.0   Flat         3          3   200  Clifton     1      0            0   \n",
       "2    9.0  House         7          6   500      DHA     0      1            0   \n",
       "3    6.0   Flat         3          4   200  Clifton     1      0            0   \n",
       "4    3.7   Flat         3          3   244  Clifton     1      0            0   \n",
       "\n",
       "   Clifton  DHA  \n",
       "0        0    1  \n",
       "1        1    0  \n",
       "2        0    1  \n",
       "3        1    0  \n",
       "4        1    0  "
      ]
     },
     "execution_count": 248,
     "metadata": {},
     "output_type": "execute_result"
    }
   ],
   "source": [
    "df_location = pd.get_dummies(df['location'])\n",
    "\n",
    "df = pd.concat([df, df_location], axis=1)\n",
    "df.head()"
   ]
  },
  {
   "cell_type": "code",
   "execution_count": 249,
   "id": "9b81c327",
   "metadata": {},
   "outputs": [
    {
     "name": "stdout",
     "output_type": "stream",
     "text": [
      "(7341, 11)\n",
      "price          float64\n",
      "type            object\n",
      "bedrooms         int32\n",
      "bathrooms        int32\n",
      "area             int32\n",
      "location        object\n",
      "Flat             uint8\n",
      "House            uint8\n",
      "Bahria Town      uint8\n",
      "Clifton          uint8\n",
      "DHA              uint8\n",
      "dtype: object\n"
     ]
    }
   ],
   "source": [
    "print(df.shape)\n",
    "print(df.dtypes)"
   ]
  },
  {
   "cell_type": "markdown",
   "id": "11de7dda",
   "metadata": {},
   "source": [
    "<h3>removing type and location column from the dataset as we dont need them anymore</h3>"
   ]
  },
  {
   "cell_type": "code",
   "execution_count": 250,
   "id": "41b8b9a1",
   "metadata": {},
   "outputs": [],
   "source": [
    "df = df.drop(['type','location'],axis=1)"
   ]
  },
  {
   "cell_type": "code",
   "execution_count": 251,
   "id": "73856065",
   "metadata": {},
   "outputs": [
    {
     "data": {
      "text/html": [
       "<div>\n",
       "<style scoped>\n",
       "    .dataframe tbody tr th:only-of-type {\n",
       "        vertical-align: middle;\n",
       "    }\n",
       "\n",
       "    .dataframe tbody tr th {\n",
       "        vertical-align: top;\n",
       "    }\n",
       "\n",
       "    .dataframe thead th {\n",
       "        text-align: right;\n",
       "    }\n",
       "</style>\n",
       "<table border=\"1\" class=\"dataframe\">\n",
       "  <thead>\n",
       "    <tr style=\"text-align: right;\">\n",
       "      <th></th>\n",
       "      <th>price</th>\n",
       "      <th>bedrooms</th>\n",
       "      <th>bathrooms</th>\n",
       "      <th>area</th>\n",
       "      <th>Flat</th>\n",
       "      <th>House</th>\n",
       "      <th>Bahria Town</th>\n",
       "      <th>Clifton</th>\n",
       "      <th>DHA</th>\n",
       "    </tr>\n",
       "  </thead>\n",
       "  <tbody>\n",
       "    <tr>\n",
       "      <th>0</th>\n",
       "      <td>11.5</td>\n",
       "      <td>5</td>\n",
       "      <td>6</td>\n",
       "      <td>600</td>\n",
       "      <td>0</td>\n",
       "      <td>1</td>\n",
       "      <td>0</td>\n",
       "      <td>0</td>\n",
       "      <td>1</td>\n",
       "    </tr>\n",
       "    <tr>\n",
       "      <th>1</th>\n",
       "      <td>4.0</td>\n",
       "      <td>3</td>\n",
       "      <td>3</td>\n",
       "      <td>200</td>\n",
       "      <td>1</td>\n",
       "      <td>0</td>\n",
       "      <td>0</td>\n",
       "      <td>1</td>\n",
       "      <td>0</td>\n",
       "    </tr>\n",
       "    <tr>\n",
       "      <th>2</th>\n",
       "      <td>9.0</td>\n",
       "      <td>7</td>\n",
       "      <td>6</td>\n",
       "      <td>500</td>\n",
       "      <td>0</td>\n",
       "      <td>1</td>\n",
       "      <td>0</td>\n",
       "      <td>0</td>\n",
       "      <td>1</td>\n",
       "    </tr>\n",
       "    <tr>\n",
       "      <th>3</th>\n",
       "      <td>6.0</td>\n",
       "      <td>3</td>\n",
       "      <td>4</td>\n",
       "      <td>200</td>\n",
       "      <td>1</td>\n",
       "      <td>0</td>\n",
       "      <td>0</td>\n",
       "      <td>1</td>\n",
       "      <td>0</td>\n",
       "    </tr>\n",
       "    <tr>\n",
       "      <th>4</th>\n",
       "      <td>3.7</td>\n",
       "      <td>3</td>\n",
       "      <td>3</td>\n",
       "      <td>244</td>\n",
       "      <td>1</td>\n",
       "      <td>0</td>\n",
       "      <td>0</td>\n",
       "      <td>1</td>\n",
       "      <td>0</td>\n",
       "    </tr>\n",
       "  </tbody>\n",
       "</table>\n",
       "</div>"
      ],
      "text/plain": [
       "   price  bedrooms  bathrooms  area  Flat  House  Bahria Town  Clifton  DHA\n",
       "0   11.5         5          6   600     0      1            0        0    1\n",
       "1    4.0         3          3   200     1      0            0        1    0\n",
       "2    9.0         7          6   500     0      1            0        0    1\n",
       "3    6.0         3          4   200     1      0            0        1    0\n",
       "4    3.7         3          3   244     1      0            0        1    0"
      ]
     },
     "execution_count": 251,
     "metadata": {},
     "output_type": "execute_result"
    }
   ],
   "source": [
    "df.head()"
   ]
  },
  {
   "cell_type": "markdown",
   "id": "ee55618a",
   "metadata": {},
   "source": [
    "<h3>renaming columns to appropriate column names</h3>"
   ]
  },
  {
   "cell_type": "code",
   "execution_count": 252,
   "id": "d3f5c663",
   "metadata": {},
   "outputs": [],
   "source": [
    "column_mapping = {\n",
    "    'price': 'price(crore)',\n",
    "    'area': 'area(sq. yard)'\n",
    "}\n",
    "df.rename(columns=column_mapping, inplace=True)"
   ]
  },
  {
   "cell_type": "markdown",
   "id": "2ce8fdb1",
   "metadata": {},
   "source": [
    "<h3>A final look on our clean dataset</h3>"
   ]
  },
  {
   "cell_type": "code",
   "execution_count": 253,
   "id": "1f674e8c",
   "metadata": {},
   "outputs": [
    {
     "name": "stdout",
     "output_type": "stream",
     "text": [
      "rows and columns:  (7341, 9) \n",
      "\n",
      "price(crore)      float64\n",
      "bedrooms            int32\n",
      "bathrooms           int32\n",
      "area(sq. yard)      int32\n",
      "Flat                uint8\n",
      "House               uint8\n",
      "Bahria Town         uint8\n",
      "Clifton             uint8\n",
      "DHA                 uint8\n",
      "dtype: object\n"
     ]
    },
    {
     "data": {
      "text/html": [
       "<div>\n",
       "<style scoped>\n",
       "    .dataframe tbody tr th:only-of-type {\n",
       "        vertical-align: middle;\n",
       "    }\n",
       "\n",
       "    .dataframe tbody tr th {\n",
       "        vertical-align: top;\n",
       "    }\n",
       "\n",
       "    .dataframe thead th {\n",
       "        text-align: right;\n",
       "    }\n",
       "</style>\n",
       "<table border=\"1\" class=\"dataframe\">\n",
       "  <thead>\n",
       "    <tr style=\"text-align: right;\">\n",
       "      <th></th>\n",
       "      <th>price(crore)</th>\n",
       "      <th>bedrooms</th>\n",
       "      <th>bathrooms</th>\n",
       "      <th>area(sq. yard)</th>\n",
       "      <th>Flat</th>\n",
       "      <th>House</th>\n",
       "      <th>Bahria Town</th>\n",
       "      <th>Clifton</th>\n",
       "      <th>DHA</th>\n",
       "    </tr>\n",
       "  </thead>\n",
       "  <tbody>\n",
       "    <tr>\n",
       "      <th>0</th>\n",
       "      <td>11.5</td>\n",
       "      <td>5</td>\n",
       "      <td>6</td>\n",
       "      <td>600</td>\n",
       "      <td>0</td>\n",
       "      <td>1</td>\n",
       "      <td>0</td>\n",
       "      <td>0</td>\n",
       "      <td>1</td>\n",
       "    </tr>\n",
       "    <tr>\n",
       "      <th>1</th>\n",
       "      <td>4.0</td>\n",
       "      <td>3</td>\n",
       "      <td>3</td>\n",
       "      <td>200</td>\n",
       "      <td>1</td>\n",
       "      <td>0</td>\n",
       "      <td>0</td>\n",
       "      <td>1</td>\n",
       "      <td>0</td>\n",
       "    </tr>\n",
       "    <tr>\n",
       "      <th>2</th>\n",
       "      <td>9.0</td>\n",
       "      <td>7</td>\n",
       "      <td>6</td>\n",
       "      <td>500</td>\n",
       "      <td>0</td>\n",
       "      <td>1</td>\n",
       "      <td>0</td>\n",
       "      <td>0</td>\n",
       "      <td>1</td>\n",
       "    </tr>\n",
       "    <tr>\n",
       "      <th>3</th>\n",
       "      <td>6.0</td>\n",
       "      <td>3</td>\n",
       "      <td>4</td>\n",
       "      <td>200</td>\n",
       "      <td>1</td>\n",
       "      <td>0</td>\n",
       "      <td>0</td>\n",
       "      <td>1</td>\n",
       "      <td>0</td>\n",
       "    </tr>\n",
       "    <tr>\n",
       "      <th>4</th>\n",
       "      <td>3.7</td>\n",
       "      <td>3</td>\n",
       "      <td>3</td>\n",
       "      <td>244</td>\n",
       "      <td>1</td>\n",
       "      <td>0</td>\n",
       "      <td>0</td>\n",
       "      <td>1</td>\n",
       "      <td>0</td>\n",
       "    </tr>\n",
       "  </tbody>\n",
       "</table>\n",
       "</div>"
      ],
      "text/plain": [
       "   price(crore)  bedrooms  bathrooms  area(sq. yard)  Flat  House  \\\n",
       "0          11.5         5          6             600     0      1   \n",
       "1           4.0         3          3             200     1      0   \n",
       "2           9.0         7          6             500     0      1   \n",
       "3           6.0         3          4             200     1      0   \n",
       "4           3.7         3          3             244     1      0   \n",
       "\n",
       "   Bahria Town  Clifton  DHA  \n",
       "0            0        0    1  \n",
       "1            0        1    0  \n",
       "2            0        0    1  \n",
       "3            0        1    0  \n",
       "4            0        1    0  "
      ]
     },
     "execution_count": 253,
     "metadata": {},
     "output_type": "execute_result"
    }
   ],
   "source": [
    "print('rows and columns: ', df.shape,'\\n')\n",
    "print(df.dtypes)\n",
    "df.head()"
   ]
  },
  {
   "cell_type": "code",
   "execution_count": 254,
   "id": "c1082784",
   "metadata": {},
   "outputs": [
    {
     "data": {
      "text/plain": [
       "99.0"
      ]
     },
     "execution_count": 254,
     "metadata": {},
     "output_type": "execute_result"
    }
   ],
   "source": [
    "df['price(crore)'].max()"
   ]
  },
  {
   "cell_type": "code",
   "execution_count": 255,
   "id": "ca98c17b",
   "metadata": {},
   "outputs": [
    {
     "data": {
      "text/html": [
       "<div>\n",
       "<style scoped>\n",
       "    .dataframe tbody tr th:only-of-type {\n",
       "        vertical-align: middle;\n",
       "    }\n",
       "\n",
       "    .dataframe tbody tr th {\n",
       "        vertical-align: top;\n",
       "    }\n",
       "\n",
       "    .dataframe thead th {\n",
       "        text-align: right;\n",
       "    }\n",
       "</style>\n",
       "<table border=\"1\" class=\"dataframe\">\n",
       "  <thead>\n",
       "    <tr style=\"text-align: right;\">\n",
       "      <th></th>\n",
       "      <th>price(crore)</th>\n",
       "      <th>bedrooms</th>\n",
       "      <th>bathrooms</th>\n",
       "      <th>area(sq. yard)</th>\n",
       "      <th>Flat</th>\n",
       "      <th>House</th>\n",
       "      <th>Bahria Town</th>\n",
       "      <th>Clifton</th>\n",
       "      <th>DHA</th>\n",
       "    </tr>\n",
       "  </thead>\n",
       "  <tbody>\n",
       "    <tr>\n",
       "      <th>count</th>\n",
       "      <td>7341.000000</td>\n",
       "      <td>7341.000000</td>\n",
       "      <td>7341.000000</td>\n",
       "      <td>7341.000000</td>\n",
       "      <td>7341.000000</td>\n",
       "      <td>7341.000000</td>\n",
       "      <td>7341.000000</td>\n",
       "      <td>7341.000000</td>\n",
       "      <td>7341.000000</td>\n",
       "    </tr>\n",
       "    <tr>\n",
       "      <th>mean</th>\n",
       "      <td>7.250616</td>\n",
       "      <td>3.851383</td>\n",
       "      <td>3.840757</td>\n",
       "      <td>299.965264</td>\n",
       "      <td>0.472688</td>\n",
       "      <td>0.527312</td>\n",
       "      <td>0.418608</td>\n",
       "      <td>0.082005</td>\n",
       "      <td>0.499387</td>\n",
       "    </tr>\n",
       "    <tr>\n",
       "      <th>std</th>\n",
       "      <td>11.073313</td>\n",
       "      <td>23.606830</td>\n",
       "      <td>1.647757</td>\n",
       "      <td>262.817985</td>\n",
       "      <td>0.499287</td>\n",
       "      <td>0.499287</td>\n",
       "      <td>0.493364</td>\n",
       "      <td>0.274391</td>\n",
       "      <td>0.500034</td>\n",
       "    </tr>\n",
       "    <tr>\n",
       "      <th>min</th>\n",
       "      <td>0.250000</td>\n",
       "      <td>1.000000</td>\n",
       "      <td>1.000000</td>\n",
       "      <td>33.000000</td>\n",
       "      <td>0.000000</td>\n",
       "      <td>0.000000</td>\n",
       "      <td>0.000000</td>\n",
       "      <td>0.000000</td>\n",
       "      <td>0.000000</td>\n",
       "    </tr>\n",
       "    <tr>\n",
       "      <th>25%</th>\n",
       "      <td>1.550000</td>\n",
       "      <td>2.000000</td>\n",
       "      <td>3.000000</td>\n",
       "      <td>125.000000</td>\n",
       "      <td>0.000000</td>\n",
       "      <td>0.000000</td>\n",
       "      <td>0.000000</td>\n",
       "      <td>0.000000</td>\n",
       "      <td>0.000000</td>\n",
       "    </tr>\n",
       "    <tr>\n",
       "      <th>50%</th>\n",
       "      <td>3.300000</td>\n",
       "      <td>3.000000</td>\n",
       "      <td>3.000000</td>\n",
       "      <td>222.000000</td>\n",
       "      <td>0.000000</td>\n",
       "      <td>1.000000</td>\n",
       "      <td>0.000000</td>\n",
       "      <td>0.000000</td>\n",
       "      <td>0.000000</td>\n",
       "    </tr>\n",
       "    <tr>\n",
       "      <th>75%</th>\n",
       "      <td>8.750000</td>\n",
       "      <td>5.000000</td>\n",
       "      <td>5.000000</td>\n",
       "      <td>400.000000</td>\n",
       "      <td>1.000000</td>\n",
       "      <td>1.000000</td>\n",
       "      <td>1.000000</td>\n",
       "      <td>0.000000</td>\n",
       "      <td>1.000000</td>\n",
       "    </tr>\n",
       "    <tr>\n",
       "      <th>max</th>\n",
       "      <td>99.000000</td>\n",
       "      <td>2022.000000</td>\n",
       "      <td>10.000000</td>\n",
       "      <td>3600.000000</td>\n",
       "      <td>1.000000</td>\n",
       "      <td>1.000000</td>\n",
       "      <td>1.000000</td>\n",
       "      <td>1.000000</td>\n",
       "      <td>1.000000</td>\n",
       "    </tr>\n",
       "  </tbody>\n",
       "</table>\n",
       "</div>"
      ],
      "text/plain": [
       "       price(crore)     bedrooms    bathrooms  area(sq. yard)         Flat  \\\n",
       "count   7341.000000  7341.000000  7341.000000     7341.000000  7341.000000   \n",
       "mean       7.250616     3.851383     3.840757      299.965264     0.472688   \n",
       "std       11.073313    23.606830     1.647757      262.817985     0.499287   \n",
       "min        0.250000     1.000000     1.000000       33.000000     0.000000   \n",
       "25%        1.550000     2.000000     3.000000      125.000000     0.000000   \n",
       "50%        3.300000     3.000000     3.000000      222.000000     0.000000   \n",
       "75%        8.750000     5.000000     5.000000      400.000000     1.000000   \n",
       "max       99.000000  2022.000000    10.000000     3600.000000     1.000000   \n",
       "\n",
       "             House  Bahria Town      Clifton          DHA  \n",
       "count  7341.000000  7341.000000  7341.000000  7341.000000  \n",
       "mean      0.527312     0.418608     0.082005     0.499387  \n",
       "std       0.499287     0.493364     0.274391     0.500034  \n",
       "min       0.000000     0.000000     0.000000     0.000000  \n",
       "25%       0.000000     0.000000     0.000000     0.000000  \n",
       "50%       1.000000     0.000000     0.000000     0.000000  \n",
       "75%       1.000000     1.000000     0.000000     1.000000  \n",
       "max       1.000000     1.000000     1.000000     1.000000  "
      ]
     },
     "execution_count": 255,
     "metadata": {},
     "output_type": "execute_result"
    }
   ],
   "source": [
    "df.describe()"
   ]
  },
  {
   "cell_type": "code",
   "execution_count": null,
   "id": "d58513f0",
   "metadata": {},
   "outputs": [],
   "source": []
  },
  {
   "cell_type": "markdown",
   "id": "c9ad0948",
   "metadata": {},
   "source": [
    "<h3>removing outliers from price and area columns</h3>"
   ]
  },
  {
   "cell_type": "code",
   "execution_count": 256,
   "id": "c4c7b5af",
   "metadata": {},
   "outputs": [
    {
     "data": {
      "text/plain": [
       "(6668, 9)"
      ]
     },
     "execution_count": 256,
     "metadata": {},
     "output_type": "execute_result"
    }
   ],
   "source": [
    "Q1a = df['price(crore)'].quantile(0.25)\n",
    "Q3a = df['price(crore)'].quantile(0.75)\n",
    "IQR1 = Q3a - Q1a\n",
    "\n",
    "# Define the lower and upper bounds for outliers of price\n",
    "lower_bound1 = Q1a - 1.5 * IQR1\n",
    "upper_bound1 = Q3a + 1.5 * IQR1\n",
    "\n",
    "\n",
    "Q1b = df['area(sq. yard)'].quantile(0.25)\n",
    "Q3b = df['area(sq. yard)'].quantile(0.75)\n",
    "IQR2 = Q3b - Q1b\n",
    "\n",
    "# Define the lower and upper bounds for outliers for area\n",
    "lower_bound2 = Q1b - 1.5 * IQR2\n",
    "upper_bound2 = Q3b + 1.5 * IQR2\n",
    "\n",
    "\n",
    "#removing outliers of area and price\n",
    "df = df[((df['area(sq. yard)'] >= lower_bound2) & (df['area(sq. yard)'] <= upper_bound2)) & ((df['price(crore)'] >= lower_bound1) & (df['price(crore)'] <= upper_bound1))]\n",
    "df.shape"
   ]
  },
  {
   "cell_type": "code",
   "execution_count": 187,
   "id": "249e767d",
   "metadata": {},
   "outputs": [
    {
     "data": {
      "text/plain": [
       "19.5"
      ]
     },
     "execution_count": 187,
     "metadata": {},
     "output_type": "execute_result"
    }
   ],
   "source": [
    "df['price(crore)'].max()"
   ]
  },
  {
   "cell_type": "markdown",
   "id": "9d7d501f",
   "metadata": {},
   "source": [
    "<h3>plotting pearson correlation btw area and price to indicate relationship strength between these attributes</h3>"
   ]
  },
  {
   "cell_type": "code",
   "execution_count": 188,
   "id": "1ee99d9f",
   "metadata": {},
   "outputs": [
    {
     "data": {
      "image/png": "[encoded data removed]",
      "text/plain": [
       "<Figure size 640x480 with 1 Axes>"
      ]
     },
     "metadata": {},
     "output_type": "display_data"
    }
   ],
   "source": [
    "import matplotlib.pyplot as plt\n",
    "import seaborn as sns\n",
    "\n",
    "x = df['price(crore)']\n",
    "y = df['area(sq. yard)']\n",
    "\n",
    "# Calculate the Pearson correlation coefficient\n",
    "corr_coeff = df['price(crore)'].corr(df['area(sq. yard)'])\n",
    "\n",
    "# Create a scatter plot\n",
    "plt.scatter(x, y, alpha=0.5)\n",
    "\n",
    "# Add the Pearson correlation line\n",
    "sns.regplot(x=x, y=y, scatter=False, color='red')\n",
    "\n",
    "# Add the correlation coefficient as a text annotation\n",
    "plt.text(x.min(), y.max(), f'Correlation: {corr_coeff:.2f}', ha='left', va='top')\n",
    "\n",
    "# Set labels and title\n",
    "plt.xlabel('Price')\n",
    "plt.ylabel('Area')\n",
    "plt.title('Scatter Plot with Pearson Correlation Line')\n",
    "\n",
    "# Show the plot\n",
    "plt.show()"
   ]
  },
  {
   "cell_type": "markdown",
   "id": "642eb0b6",
   "metadata": {},
   "source": [
    "<h3>applying regression tree and calculating value of MSE RMSE R2 of the model</h3>"
   ]
  },
  {
   "cell_type": "code",
   "execution_count": 189,
   "id": "5b8aaf51",
   "metadata": {},
   "outputs": [
    {
     "name": "stdout",
     "output_type": "stream",
     "text": [
      "Mean Squared Error (MSE): 2.061051982828634\n",
      "Root Mean Squared Error (RMSE): 1.4356364382491251\n",
      "R-squared: 0.8934209077002013\n"
     ]
    }
   ],
   "source": [
    "from sklearn.model_selection import train_test_split\n",
    "from sklearn.tree import DecisionTreeRegressor\n",
    "from sklearn.metrics import mean_squared_error\n",
    "\n",
    "# Split the data into training and test sets\n",
    "X_train, X_test, y_train, y_test = train_test_split(df[['bedrooms', 'bathrooms', 'area(sq. yard)', 'House', 'Flat','Bahria Town','Clifton','DHA']], df['price(crore)'], test_size=0.2, random_state=42)\n",
    "\n",
    "# Initialize and train the decision tree regression model\n",
    "modelDTR = DecisionTreeRegressor()\n",
    "modelDTR.fit(X_train, y_train)\n",
    "\n",
    "# Make predictions on the test set\n",
    "predictions = modelDTR.predict(X_test)\n",
    "\n",
    "# Evaluate the model\n",
    "mse = mean_squared_error(y_test, predictions)\n",
    "rmse = np.sqrt(mse)\n",
    "r_squared = modelDTR.score(X_test, y_test)\n",
    "\n",
    "# Print the evaluation metrics\n",
    "print(\"Mean Squared Error (MSE):\", mse)\n",
    "print(\"Root Mean Squared Error (RMSE):\", rmse)\n",
    "print(\"R-squared:\", r_squared)\n"
   ]
  },
  {
   "cell_type": "code",
   "execution_count": 190,
   "id": "8d6aad05",
   "metadata": {},
   "outputs": [
    {
     "name": "stdout",
     "output_type": "stream",
     "text": [
      "Predicted Price: [11.25]\n"
     ]
    },
    {
     "name": "stderr",
     "output_type": "stream",
     "text": [
      "C:\\Users\\Iqbal Siddiqui\\anaconda3\\lib\\site-packages\\sklearn\\base.py:420: UserWarning: X does not have valid feature names, but DecisionTreeRegressor was fitted with feature names\n",
      "  warnings.warn(\n"
     ]
    }
   ],
   "source": [
    "# Prepare the new input data\n",
    "new_data = [[5, 5, 600, 1, 0, 0, 0, 1]]  # Example input data with feature values\n",
    "\n",
    "# Make predictions on the new input data\n",
    "predicted_price = modelDTR.predict(new_data)\n",
    "\n",
    "# Print the predicted price\n",
    "print(\"Predicted Price:\", predicted_price)\n"
   ]
  },
  {
   "cell_type": "code",
   "execution_count": 191,
   "id": "973e7612",
   "metadata": {},
   "outputs": [
    {
     "data": {
      "image/png": "[encoded data removed]",
      "text/plain": [
       "<Figure size 640x480 with 1 Axes>"
      ]
     },
     "metadata": {},
     "output_type": "display_data"
    }
   ],
   "source": [
    "# Plotting the actual prices\n",
    "plt.scatter(y_test, y_test, color='blue', label='Actual')\n",
    "\n",
    "# Plotting the predicted prices\n",
    "plt.scatter(y_test, predictions, color='red', label='Predicted')\n",
    "\n",
    "# Add labels and title\n",
    "plt.xlabel('Actual Prices (crore)')\n",
    "plt.ylabel('Predicted Prices (crore)')\n",
    "plt.title('Decision Tree Regression')\n",
    "\n",
    "# Add legend\n",
    "plt.legend()\n",
    "\n",
    "# Display the chart\n",
    "plt.show()\n"
   ]
  },
  {
   "cell_type": "markdown",
   "id": "8b196d1a",
   "metadata": {},
   "source": [
    "<h2>applying random forest regressor and calculating values of MSE RMSE and R-Squared.</h2>"
   ]
  },
  {
   "cell_type": "code",
   "execution_count": 192,
   "id": "37a95632",
   "metadata": {},
   "outputs": [],
   "source": [
    "from sklearn.model_selection import train_test_split\n",
    "from sklearn.ensemble import RandomForestRegressor\n",
    "from sklearn.metrics import mean_squared_error\n",
    "X_train, X_test, y_train, y_test = train_test_split(df[['bedrooms', 'bathrooms', 'area(sq. yard)', 'Flat', 'House','Bahria Town','Clifton','DHA']], df['price(crore)'], test_size=0.2, random_state=42)\n",
    "modelRFG = RandomForestRegressor()\n",
    "modelRFG.fit(X_train, y_train)\n",
    "predictions = modelRFG.predict(X_test)\n"
   ]
  },
  {
   "cell_type": "code",
   "execution_count": 193,
   "id": "78b75821",
   "metadata": {},
   "outputs": [
    {
     "name": "stdout",
     "output_type": "stream",
     "text": [
      "Mean Squared Error (MSE): 1.9798397544910473\n",
      "Root Mean Squared Error (RMSE): 1.4070677860327296\n",
      "R-squared: 0.897620474548576\n"
     ]
    }
   ],
   "source": [
    "mse = mean_squared_error(y_test, predictions)\n",
    "rmse = np.sqrt(mse)\n",
    "r_squared = modelRFG.score(X_test, y_test)\n",
    "print(\"Mean Squared Error (MSE):\", mse)\n",
    "print(\"Root Mean Squared Error (RMSE):\", rmse)\n",
    "print(\"R-squared:\", r_squared)\n"
   ]
  },
  {
   "cell_type": "code",
   "execution_count": null,
   "id": "3e4e3a74",
   "metadata": {},
   "outputs": [],
   "source": [
    "# Prepare the new input data\n",
    "new_data = [[3, 4, 500, 1, 0, 1, 0, 0]]  # Example input data with feature values\n",
    "\n",
    "# Make predictions on the new input data\n",
    "predicted_price = modelRFG.predict(new_data)\n",
    "\n",
    "# Print the predicted price\n",
    "print(\"Predicted Price:\", predicted_price)\n"
   ]
  },
  {
   "cell_type": "code",
   "execution_count": null,
   "id": "11515fcb",
   "metadata": {
    "scrolled": true
   },
   "outputs": [],
   "source": [
    "# Plotting the actual prices\n",
    "plt.scatter(y_test, y_test, color='blue', label='Actual')\n",
    "\n",
    "# Plotting the predicted prices\n",
    "plt.scatter(y_test, predictions, color='red', label='Predicted')\n",
    "\n",
    "# Add labels and title\n",
    "plt.xlabel('Actual Prices (crore)')\n",
    "plt.ylabel('Predicted Prices (crore)')\n",
    "plt.title('Forest Tree Regression')\n",
    "\n",
    "# Add legend\n",
    "plt.legend()\n",
    "\n",
    "# Display the chart\n",
    "plt.show()\n"
   ]
  },
  {
   "cell_type": "markdown",
   "id": "79bd3d01",
   "metadata": {},
   "source": [
    "<h2>we notice that the random forest regressor yields the best result with minimum Mean Squared Error value and maximum R Squared value, so we will choose this model for our prediction</h2>"
   ]
  },
  {
   "cell_type": "markdown",
   "id": "c8558fcd",
   "metadata": {},
   "source": [
    "<h3>For Frontend purposes</h3>"
   ]
  },
  {
   "cell_type": "code",
   "execution_count": null,
   "id": "349f2047",
   "metadata": {},
   "outputs": [],
   "source": [
    "import pickle\n",
    "\n",
    "# Assuming your trained model is stored in the variable `model`\n",
    "with open('housingProject.pickle', 'wb') as f:\n",
    "    pickle.dump(modelRFG, f)\n"
   ]
  },
  {
   "cell_type": "code",
   "execution_count": null,
   "id": "262fa48f",
   "metadata": {},
   "outputs": [],
   "source": [
    "import json\n",
    "columns = {\n",
    "    'data_columns': [col.lower() for col in df.columns]\n",
    "}\n",
    "with open('columns.json', 'w') as f:\n",
    "    f.write(json.dumps(columns))"
   ]
  }
 ],
 "metadata": {
  "kernelspec": {
   "display_name": "Python 3 (ipykernel)",
   "language": "python",
   "name": "python3"
  },
  "language_info": {
   "codemirror_mode": {
    "name": "ipython",
    "version": 3
   },
   "file_extension": ".py",
   "mimetype": "text/x-python",
   "name": "python",
   "nbconvert_exporter": "python",
   "pygments_lexer": "ipython3",
   "version": "3.10.9"
  }
 },
 "nbformat": 4,
 "nbformat_minor": 5
}
